{
 "cells": [
  {
   "cell_type": "markdown",
   "metadata": {},
   "source": [
    "# DEMO: MEASURING THE STABILITY OF FEATURE SELECTION IN PYTHON"
   ]
  },
  {
   "cell_type": "markdown",
   "metadata": {},
   "source": [
    "This is a demo in Python having the following objectives: <br /> \n",
    "<ol>\n",
    "<li> - We illustrate the use of the <b>Python package</b> called \"stability\". You can download this package using the link available\n",
    "        at: www.url.com .The package provides an implementation of the stability estimate, its variance, the confidence\n",
    "        intervals, and the two hypothesis tests presented in the <b> JMLR (2017) paper \"On the Stability of Feature Selection\" [1] </b> <br />\n",
    "<li> - Illustrating how this can be used in practice to quantify stability in 3 case scenarios: \n",
    "        - when applying feature selection using a logistic L1-regularized regression on an artificial dataset\n",
    "        - when applying feature selection using the elastic net\n",
    "        - when applying feature selection using mutual information of the features with the target variable\n",
    "</ol>      \n",
    "We point out that the stability measure implemented here (Fleiss' Kappa) reduces to Kuncheva's stability measure [5] when the number of features selected is constant equal to k. Therefore the confidence intervals, variance estimates and hypothesis tests are also valid for Kuncheva's stability measure in that case."
   ]
  },
  {
   "cell_type": "markdown",
   "metadata": {},
   "source": [
    "# Importing and using the Stability package"
   ]
  },
  {
   "cell_type": "code",
   "execution_count": 4,
   "metadata": {
    "jupyter": {
     "outputs_hidden": false
    }
   },
   "outputs": [
    {
     "name": "stdout",
     "output_type": "stream",
     "text": [
      "Help on package stability:\n",
      "\n",
      "NAME\n",
      "    stability\n",
      "\n",
      "DESCRIPTION\n",
      "    This package implements the statistical tools for quantifying the stability of feature selection as given in [1].\n",
      "    It includes 5 functions that provide:\n",
      "        - the stability estimate of a feature selection procedure given its outputs;\n",
      "        - the variance of the stability estimate;\n",
      "        - a (1-alpha)- approximate confidence intervals for the population stability;\n",
      "        - a null hypothesis test allowing to compare the population stability of a feature selection procedure to \n",
      "          a given value.\n",
      "        - a null hypothesis test allowing to compare the population stabilities of two feature selection procedures.\n",
      "    \n",
      "    [1] On the Stability of Feature Selection. Sarah Nogueira, Konstantinos Sechidis, Gavin Brown. \n",
      "        Journal of Machine Learning Reasearch (JMLR). 2017.\n",
      "    \n",
      "    You can find a full demo using this package at:\n",
      "    http://htmlpreview.github.io/?https://github.com/nogueirs/JMLR2017/blob/master/python/stabilityDemo.html\n",
      "    \n",
      "    NB: This package requires the installation of the packages: numpy, scipy and math\n",
      "\n",
      "PACKAGE CONTENTS\n",
      "\n",
      "\n",
      "FUNCTIONS\n",
      "    checkInputType(Z)\n",
      "        This function checks that Z is of the rigt type and dimension.\n",
      "        It raises an exception if not.\n",
      "        OUTPUT: The input Z as a numpy.ndarray\n",
      "    \n",
      "    confidenceIntervals(Z, alpha=0.05, res={})\n",
      "        Let us assume we have M>1 feature sets and d>0 features in total.\n",
      "        This function provides the stability estimate and the lower and upper bounds of the (1-alpha)- approximate confidence \n",
      "        interval as given by Corollary 9 in [1]\n",
      "        \n",
      "        INPUTS: - A BINARY matrix Z (given as a list or as a numpy.ndarray of size M*d, raises a ValueError exception otherwise). \n",
      "                  Each row of the binary matrix represents a feature set, where a 1 at the f^th position \n",
      "                  means the f^th feature has been selected and a 0 means it has not been selected.\n",
      "                - alpha is an optional argument corresponding to the level of significance for the confidence interval \n",
      "                  (default is 0.05), e.g. alpha=0.05 give the lower and upper bound of for a (1-alpha)=95% confidence interval.\n",
      "                - In case you already computed the stability estimate of Z using the function getVarianceofStability(Z), \n",
      "                  you can provide theresult (a dictionnary) as an optional argument to this function for faster computation.\n",
      "               \n",
      "        OUTPUT: - A dictionnary where the key 'stability' provides the corresponding stability value, where:\n",
      "                      - the key 'variance' provides the variance of the stability estimate;\n",
      "                      - the keys 'lower' and 'upper' respectively give the lower and upper bounds \n",
      "                        of the (1-alpha)-confidence interval.\n",
      "    \n",
      "    getStability(Z)\n",
      "        Let us assume we have M>1 feature sets and d>0 features in total.\n",
      "        This function computes the stability estimate as given in Definition 4 in  [1].\n",
      "        \n",
      "        INPUT: A BINARY matrix Z (given as a list or as a numpy.ndarray of size M*d).\n",
      "               Each row of the binary matrix represents a feature set, where a 1 at the f^th position \n",
      "               means the f^th feature has been selected and a 0 means it has not been selected.\n",
      "               \n",
      "        OUTPUT: The stability of the feature selection procedure\n",
      "    \n",
      "    getVarianceofStability(Z)\n",
      "        Let us assume we have M>1 feature sets and d>0 features in total.\n",
      "        This function computes the stability estimate and its variance as given in [1].\n",
      "        \n",
      "        INPUT: A BINARY matrix Z (given as a list or as a numpy.ndarray of size M*d, raises a ValueError exception otherwise).\n",
      "               Each row of the binary matrix represents a feature set, where a 1 at the f^th position \n",
      "               means the f^th feature has been selected and a 0 means it has not been selected.\n",
      "               \n",
      "        OUTPUT: A dictionnary where the key 'stability' provides the corresponding stability value #\n",
      "                and where the key 'variance' provides the variance of the stability estimate\n",
      "    \n",
      "    hypothesisTestT(Z1, Z2, alpha=0.05)\n",
      "        Let us assume we have M>1 feature sets and d>0 features in total.\n",
      "        This function implements the null hypothesis test of Theorem 10 in [1] that test whether \n",
      "        two population stabilities are identical.\n",
      "        \n",
      "        INPUTS:- Two BINARY matrices Z1 and Z2 (given as lists or as numpy.ndarray objects of size M*d).\n",
      "                 Each row of the binary matrix represents a feature set, where a 1 at the f^th position \n",
      "                 means the f^th feature has been selected and a 0 means it has not been selected. \n",
      "               - alpha is an optional argument corresponding to the level of significance of the null \n",
      "                 hypothesis test (default is 0.05)\n",
      "               \n",
      "        OUTPUT: A dictionnary with:\n",
      "                - a boolean value for key 'reject' equal to True if the null hypothesis is rejected and to False otherwise\n",
      "                - a float for the key 'T' giving the value of the test statistic \n",
      "                - a float giving for the key 'p-value' giving the p-value of the hypothesis test\n",
      "    \n",
      "    hypothesisTestV(Z, stab0, alpha=0.05)\n",
      "        Let us assume we have M>1 feature sets and d>0 features in total.\n",
      "        This function implements the null hypothesis test in [1] that test whether the population stability is greater \n",
      "        than a given value stab0.\n",
      "        \n",
      "        INPUTS:- A BINARY matrix Z (given as a list or as a numpy.ndarray of size M*d, raises a ValueError exception otherwise).\n",
      "                 Each row of the binary matrix represents a feature set, where a 1 at the f^th position\n",
      "                 means the f^th feature has been selected and a 0 means it has not been selected. \n",
      "               - stab0 is the value we want to compare the stability of the feature selection to.\n",
      "               - alpha is an optional argument corresponding to the level of significance of the null hypothesis test \n",
      "                 (default is 0.05).\n",
      "               \n",
      "        OUTPUT: A dictionnary with:\n",
      "                - a boolean value for key 'reject' equal to True if the null hypothesis is rejected and to False otherwise\n",
      "                - a float for the key 'V' giving the value of the test statistic \n",
      "                - a float giving for the key 'p-value' giving the p-value of the hypothesis test\n",
      "\n",
      "DATA\n",
      "    norm = <scipy.stats._continuous_distns.norm_gen object>\n",
      "\n",
      "FILE\n",
      "    /Users/liuyue/Desktop/科研/stable_feature_selection/JMLR2018-master/python/stability/__init__.py\n",
      "\n",
      "\n"
     ]
    }
   ],
   "source": [
    "## before importing the package, make sure you have placd the stability folder (contining the __init__.py file) in the right directory\n",
    "import stability as st\n",
    "\n",
    "## Let us first observe the description and contents of the package\n",
    "help(st)"
   ]
  },
  {
   "cell_type": "markdown",
   "metadata": {},
   "source": [
    "<b>Once the package imported (import stability as st), you can call any of the functions decribed in the help using:<br>\n",
    "st.function </b>"
   ]
  },
  {
   "cell_type": "markdown",
   "metadata": {},
   "source": [
    "Let us give a few examples with 2 simple toy cases. <br>\n",
    "Let us assume we have two feature selection procedures selecting k=2 features out of d=3 features in total. <br>\n",
    "We apply each feature selection procedure to M=3 bootstrap samples of the same data set and store the feature selection output in two matrices Z<sub>1</sub> and Z<sub>2</sub> of size M*d as follows:\n",
    "<img src=\"example1.png\" width=\"400\"> <br>\n",
    "Each row represent a feature set, where a 1 at the f<sup>th</sup> means the f<sup>th</sup> feature has been selected and a 0 means it has not been selected. <br>\n",
    "For the first feature selection procedure (with output Z<sub>1</sub>), the first 2 feature have been selected on each one of the M=3 repeats, while for the second feature selection procedure (with output Z<sub>2</sub>), the features selected are different on every repeat. <br><br>\n",
    "Let us compute the stabilities of each one of these procedures using the imported package:"
   ]
  },
  {
   "cell_type": "code",
   "execution_count": 2,
   "metadata": {
    "collapsed": false,
    "jupyter": {
     "outputs_hidden": false
    }
   },
   "outputs": [
    {
     "name": "stdout",
     "output_type": "stream",
     "text": [
      "Stability of procedure 1 is : 1.0\n",
      "Stability of procedure 2 is : -0.5\n"
     ]
    }
   ],
   "source": [
    "## first we implement Z1 and Z2 as lists of size M*d\n",
    "Z1=[[1,1,0],[1,1,0],[1,1,0]]\n",
    "Z2=[[1,1,0],[0,1,1],[1,0,1]]\n",
    "stab1=st.getStability(Z1)\n",
    "stab2=st.getStability(Z2)\n",
    "print('Stability of procedure 1 is :',stab1)\n",
    "print('Stability of procedure 2 is :',stab2)"
   ]
  },
  {
   "cell_type": "markdown",
   "metadata": {},
   "source": [
    "As we can see, since all feature sets in Z<sub>1</sub> are identical, the stability of the first procedure is maximal and equal to 1. We note that even all pairs of feature sets in Z<sub>2</sub> have a feature in common, the stability of Z<sub>2</sub> is negative: this is a consequence of the correction for chance. Indeed, when choosing 2 features out of 3, the feature sets generated will always share at least one feature. The stability measure proposed corrects for this. Asymptotically (as M approaches infinity), the stability of a random procedure is 0 (and the stability values are asymptotically in the interval [0,1]). Let us illustrate this with the following example:"
   ]
  },
  {
   "cell_type": "code",
   "execution_count": 9,
   "metadata": {
    "collapsed": false,
    "jupyter": {
     "outputs_hidden": false
    }
   },
   "outputs": [
    {
     "name": "stdout",
     "output_type": "stream",
     "text": [
      "Z3= [[1. 1. 1. 1. 0. 0. 0. 0. 0. 0.]\n",
      " [0. 0. 1. 1. 0. 0. 1. 0. 0. 1.]\n",
      " [0. 1. 1. 0. 0. 0. 1. 0. 0. 1.]\n",
      " [1. 0. 0. 1. 0. 0. 0. 1. 1. 0.]\n",
      " [0. 0. 0. 1. 0. 1. 0. 1. 0. 1.]\n",
      " [0. 0. 0. 0. 0. 1. 0. 1. 1. 1.]\n",
      " [1. 0. 0. 0. 1. 1. 1. 0. 0. 0.]\n",
      " [0. 0. 1. 0. 0. 0. 0. 1. 1. 1.]\n",
      " [0. 0. 0. 0. 0. 1. 0. 1. 1. 1.]\n",
      " [0. 0. 1. 1. 1. 0. 0. 1. 0. 0.]]\n",
      "\n",
      " Stability of Z3 is -0.018518518518518823\n"
     ]
    }
   ],
   "source": [
    "## Let us generate a matrix of M=10 feature sets each RANDOMLY selecting k=4 features out of d=10 features.\n",
    "import numpy as np\n",
    "d=10\n",
    "k=4\n",
    "M=10\n",
    "Z3=np.zeros((M,d)) ## we initialize Z3 as a matrix of size M*d with zeros\n",
    "arr=np.array([1,1,1,1,0,0,0,0,0,0])\n",
    "for i in range(M): # for each row in Z3\n",
    "    Z3[i,:]=arr\n",
    "    arr=np.random.permutation(arr)\n",
    "stab3=st.getStability(Z3)\n",
    "print('Z3=',Z3)\n",
    "print('\\n Stability of Z3 is',stab3)"
   ]
  },
  {
   "cell_type": "markdown",
   "metadata": {},
   "source": [
    "As we can see, the stability of that matrix is close to 0, which we expected since the features are randomly selected. <br>\n",
    "Let us now repeat the same operation, but with M=100 feature sets."
   ]
  },
  {
   "cell_type": "code",
   "execution_count": 11,
   "metadata": {
    "collapsed": false,
    "jupyter": {
     "outputs_hidden": false
    }
   },
   "outputs": [
    {
     "name": "stdout",
     "output_type": "stream",
     "text": [
      "[[0. 0. 0. 1. 0. 1. 1. 0. 0. 1.]\n",
      " [0. 0. 0. 1. 0. 1. 0. 1. 0. 1.]\n",
      " [0. 1. 0. 0. 0. 1. 1. 1. 0. 0.]\n",
      " [0. 0. 1. 1. 0. 0. 1. 0. 1. 0.]\n",
      " [0. 0. 0. 1. 0. 1. 0. 1. 0. 1.]\n",
      " [0. 0. 1. 1. 0. 0. 1. 0. 0. 1.]\n",
      " [1. 0. 0. 0. 0. 0. 1. 0. 1. 1.]\n",
      " [1. 0. 0. 0. 1. 1. 0. 0. 1. 0.]\n",
      " [1. 0. 0. 0. 0. 0. 1. 1. 1. 0.]\n",
      " [1. 0. 1. 0. 0. 1. 0. 1. 0. 0.]\n",
      " [0. 1. 0. 0. 1. 0. 1. 1. 0. 0.]\n",
      " [1. 0. 0. 0. 1. 0. 1. 0. 0. 1.]\n",
      " [0. 0. 1. 0. 1. 1. 1. 0. 0. 0.]\n",
      " [1. 1. 1. 0. 0. 0. 1. 0. 0. 0.]\n",
      " [0. 0. 0. 0. 1. 1. 1. 0. 0. 1.]\n",
      " [1. 0. 0. 0. 1. 1. 0. 0. 1. 0.]\n",
      " [1. 0. 0. 0. 0. 0. 0. 1. 1. 1.]\n",
      " [0. 0. 0. 0. 1. 1. 0. 1. 0. 1.]\n",
      " [0. 1. 1. 1. 0. 1. 0. 0. 0. 0.]\n",
      " [0. 1. 0. 0. 0. 1. 1. 1. 0. 0.]\n",
      " [0. 1. 1. 1. 0. 0. 0. 0. 0. 1.]\n",
      " [0. 0. 0. 1. 0. 0. 1. 1. 0. 1.]\n",
      " [0. 1. 0. 1. 1. 1. 0. 0. 0. 0.]\n",
      " [1. 0. 1. 0. 0. 1. 0. 0. 1. 0.]\n",
      " [0. 0. 0. 0. 1. 1. 0. 1. 1. 0.]\n",
      " [0. 1. 0. 0. 1. 1. 0. 1. 0. 0.]\n",
      " [1. 0. 0. 0. 0. 1. 0. 0. 1. 1.]\n",
      " [0. 0. 1. 1. 1. 0. 0. 1. 0. 0.]\n",
      " [0. 0. 0. 0. 1. 1. 1. 0. 0. 1.]\n",
      " [0. 0. 0. 1. 1. 0. 0. 1. 0. 1.]\n",
      " [0. 0. 0. 1. 1. 0. 1. 0. 0. 1.]\n",
      " [1. 0. 1. 0. 0. 0. 0. 1. 1. 0.]\n",
      " [0. 1. 1. 1. 0. 0. 0. 0. 0. 1.]\n",
      " [0. 0. 0. 1. 1. 0. 1. 1. 0. 0.]\n",
      " [0. 1. 0. 0. 1. 1. 1. 0. 0. 0.]\n",
      " [1. 0. 0. 0. 1. 1. 0. 0. 1. 0.]\n",
      " [0. 0. 1. 0. 1. 0. 0. 1. 1. 0.]\n",
      " [1. 0. 0. 0. 0. 0. 1. 1. 1. 0.]\n",
      " [0. 0. 0. 1. 0. 0. 1. 0. 1. 1.]\n",
      " [1. 0. 0. 0. 0. 1. 0. 1. 1. 0.]\n",
      " [1. 0. 0. 0. 1. 1. 0. 0. 0. 1.]\n",
      " [1. 0. 0. 0. 1. 1. 0. 1. 0. 0.]\n",
      " [0. 1. 0. 0. 0. 1. 0. 1. 0. 1.]\n",
      " [0. 1. 0. 0. 1. 0. 0. 1. 0. 1.]\n",
      " [0. 0. 0. 0. 0. 1. 1. 1. 0. 1.]\n",
      " [1. 0. 1. 0. 0. 0. 0. 0. 1. 1.]\n",
      " [0. 1. 1. 0. 1. 1. 0. 0. 0. 0.]\n",
      " [1. 1. 0. 0. 1. 0. 1. 0. 0. 0.]\n",
      " [0. 1. 1. 0. 0. 0. 0. 1. 0. 1.]\n",
      " [0. 0. 1. 1. 0. 1. 0. 0. 0. 1.]\n",
      " [0. 0. 0. 0. 0. 1. 1. 1. 1. 0.]\n",
      " [1. 1. 0. 0. 0. 1. 0. 0. 1. 0.]\n",
      " [1. 0. 1. 0. 1. 1. 0. 0. 0. 0.]\n",
      " [1. 0. 0. 0. 1. 0. 1. 0. 0. 1.]\n",
      " [0. 0. 0. 1. 0. 0. 0. 1. 1. 1.]\n",
      " [1. 0. 1. 1. 0. 0. 1. 0. 0. 0.]\n",
      " [0. 0. 1. 1. 1. 1. 0. 0. 0. 0.]\n",
      " [1. 0. 0. 0. 0. 0. 1. 0. 1. 1.]\n",
      " [0. 1. 1. 0. 0. 0. 0. 1. 0. 1.]\n",
      " [0. 0. 0. 1. 0. 1. 1. 0. 1. 0.]\n",
      " [0. 0. 0. 0. 1. 1. 0. 1. 1. 0.]\n",
      " [0. 1. 0. 0. 1. 0. 0. 1. 0. 1.]\n",
      " [1. 1. 0. 1. 0. 0. 0. 0. 0. 1.]\n",
      " [0. 0. 0. 0. 1. 1. 1. 1. 0. 0.]\n",
      " [0. 0. 0. 0. 1. 1. 1. 1. 0. 0.]\n",
      " [0. 1. 0. 0. 0. 1. 0. 1. 0. 1.]\n",
      " [1. 0. 0. 0. 0. 0. 0. 1. 1. 1.]\n",
      " [0. 0. 1. 1. 0. 0. 0. 0. 1. 1.]\n",
      " [0. 0. 1. 0. 1. 1. 0. 1. 0. 0.]\n",
      " [1. 0. 0. 0. 1. 0. 0. 0. 1. 1.]\n",
      " [1. 1. 1. 0. 0. 0. 0. 0. 0. 1.]\n",
      " [1. 0. 1. 0. 1. 0. 0. 0. 1. 0.]\n",
      " [1. 0. 0. 0. 0. 1. 1. 0. 0. 1.]\n",
      " [1. 0. 0. 1. 0. 0. 0. 0. 1. 1.]\n",
      " [1. 0. 0. 0. 1. 0. 0. 0. 1. 1.]\n",
      " [1. 0. 0. 1. 0. 0. 1. 1. 0. 0.]\n",
      " [0. 0. 0. 0. 1. 0. 1. 1. 1. 0.]\n",
      " [0. 0. 0. 1. 0. 0. 1. 1. 1. 0.]\n",
      " [1. 0. 1. 0. 0. 0. 1. 1. 0. 0.]\n",
      " [0. 0. 1. 1. 0. 1. 0. 0. 1. 0.]\n",
      " [0. 0. 1. 1. 0. 0. 0. 1. 0. 1.]\n",
      " [1. 1. 1. 0. 0. 0. 1. 0. 0. 0.]\n",
      " [0. 1. 0. 0. 1. 0. 1. 1. 0. 0.]\n",
      " [1. 0. 0. 1. 0. 0. 0. 1. 1. 0.]\n",
      " [0. 0. 0. 0. 0. 1. 1. 1. 1. 0.]\n",
      " [0. 1. 1. 0. 1. 1. 0. 0. 0. 0.]\n",
      " [0. 0. 1. 1. 1. 0. 0. 0. 1. 0.]\n",
      " [0. 0. 0. 0. 1. 1. 1. 0. 0. 1.]\n",
      " [0. 0. 1. 0. 1. 1. 0. 1. 0. 0.]\n",
      " [1. 0. 0. 1. 1. 1. 0. 0. 0. 0.]\n",
      " [1. 0. 0. 0. 0. 1. 1. 0. 1. 0.]\n",
      " [0. 0. 1. 1. 0. 1. 1. 0. 0. 0.]\n",
      " [1. 0. 0. 1. 0. 1. 0. 0. 1. 0.]\n",
      " [0. 1. 0. 1. 0. 0. 0. 0. 1. 1.]\n",
      " [0. 1. 0. 0. 0. 1. 0. 1. 0. 1.]\n",
      " [1. 0. 0. 1. 0. 1. 0. 1. 0. 0.]\n",
      " [0. 0. 1. 0. 0. 1. 0. 0. 1. 1.]\n",
      " [1. 1. 0. 0. 0. 0. 1. 0. 0. 1.]\n",
      " [0. 0. 1. 1. 1. 0. 0. 0. 1. 0.]\n",
      " [0. 0. 1. 0. 0. 0. 1. 1. 1. 0.]]\n",
      "Stability of Z4 is 0.005723905723905798\n"
     ]
    }
   ],
   "source": [
    "M=100\n",
    "Z4=np.zeros((M,d)) ## we initialize Z4 as a matrix of size M*d with zeros\n",
    "# print(Z4)\n",
    "for i in range(M): # for each row in Z4\n",
    "    Z4[i,:]=arr\n",
    "    arr=np.random.permutation(arr)\n",
    "stab4=st.getStability(Z4)\n",
    "print(Z4)\n",
    "print('Stability of Z4 is',stab4)"
   ]
  },
  {
   "cell_type": "markdown",
   "metadata": {},
   "source": [
    "As we can see, the stability estimate gets closer to 0 as we increase the number of feature sets.\n",
    "Let us now compare the variance of these two stability estimates using the function of the stability package."
   ]
  },
  {
   "cell_type": "code",
   "execution_count": 12,
   "metadata": {
    "collapsed": false,
    "jupyter": {
     "outputs_hidden": false
    }
   },
   "outputs": [
    {
     "name": "stdout",
     "output_type": "stream",
     "text": [
      "{'stability': -0.018518518518518823, 'variance': 0.005277777777777779}\n",
      "{'stability': 0.005723905723905798, 'variance': 6.55711111111111e-05}\n",
      "Variance of the random procedure with M=10 is: 0.005277777777777779\n",
      "Variance of the random procedure with M=100 is: 6.55711111111111e-05\n"
     ]
    }
   ],
   "source": [
    "res3=st.getVarianceofStability(Z3)\n",
    "res4=st.getVarianceofStability(Z4)\n",
    "print(res3)\n",
    "print(res4)\n",
    "print('Variance of the random procedure with M=10 is:',res3['variance'])\n",
    "print('Variance of the random procedure with M=100 is:',res4['variance'])"
   ]
  },
  {
   "cell_type": "markdown",
   "metadata": {},
   "source": [
    "As we expected, the variance of the random feature selection procedure decreased as we increased M.<br>"
   ]
  },
  {
   "cell_type": "markdown",
   "metadata": {},
   "source": [
    "# Some Useful Functions"
   ]
  },
  {
   "cell_type": "code",
   "execution_count": 13,
   "metadata": {
    "tags": []
   },
   "outputs": [],
   "source": [
    "import sklearn\n",
    "from sklearn import metrics\n",
    "import scipy.io as sio\n",
    "import math\n",
    "\n",
    "def getMutualInfos(data,labels):\n",
    "    '''\n",
    "    This function takes as input the data and labels and returns the mutual information of each feature \n",
    "    with the labels in a np.dnarray of length d\n",
    "    \n",
    "    INPUTS:\n",
    "    - data is a 2-dimensional numpy.ndarray where rows are examples and columns are features\n",
    "    - labels is a 1-dimansional numpy.ndarray giving the label of each example in data\n",
    "    \n",
    "    OUPUT:\n",
    "    - a 1-dimensional numpy.ndarray of length d (where d is the number of features) \n",
    "      with the mutual information of each feature with the label\n",
    "    '''\n",
    "    M,d=data.shape\n",
    "    mutualInfos=np.zeros(d)\n",
    "    # for each feature\n",
    "    for f in range(d):\n",
    "        # we calculate the mutual information of the feature with the labels\n",
    "        mutualInfos[f]=metrics.mutual_info_score(data[:,f],labels)\n",
    "        print(mutualInfos[f])\n",
    "    return mutualInfos\n",
    "\n",
    "\n",
    "def getBootstrapSample(data,labels):\n",
    "    '''\n",
    "    This function takes as input the data and labels and returns \n",
    "    a bootstrap sample of the data, as well as its out-of-bag (OOB) data\n",
    "    \n",
    "    INPUTS:\n",
    "    - data is a 2-dimensional numpy.ndarray where rows are examples and columns are features\n",
    "    - labels is a 1-dimansional numpy.ndarray giving the label of each example in data\n",
    "    \n",
    "    OUPUT:\n",
    "    - a dictionnary where:\n",
    "          - key 'bootData' gives a 2-dimensional numpy.ndarray which is a bootstrap sample of data\n",
    "          - key 'bootLabels' is a 1-dimansional numpy.ndarray giving the label of each example in bootData\n",
    "          - key 'OOBData' gives a 2-dimensional numpy.ndarray the OOB examples\n",
    "          - key 'OOBLabels' is a 1-dimansional numpy.ndarray giving the label of each example in OOBData\n",
    "    '''\n",
    "    m,d=data.shape\n",
    "    if m!= len(labels):\n",
    "        raise ValueError('The data and labels should have a same number of rows.')\n",
    "    ind=np.random.choice(range(m), size=m, replace=True)\n",
    "    OOBind=np.setdiff1d(range(m),ind, assume_unique=True)\n",
    "    bootData=data[ind,]\n",
    "    bootLabels=labels[ind]\n",
    "    OOBData=data[OOBind,]\n",
    "    OOBLabels=labels[OOBind]\n",
    "    return {'bootData':bootData,'bootLabels':bootLabels,'OOBData':OOBData,'OOBLabels':OOBLabels}\n",
    "\n",
    "def generateAtificialDataset(m,d,d_rel,rho):\n",
    "    ''' This function enerates the artificial dataset used in the experiments (Section 7.1) of [1].\n",
    "        The data set is made of continuous data where the first\n",
    "        d_rel featues are relevant and where the d-d_rel remaining features are irrelevant to the target class\n",
    "        this is a balanced data set where m/2 examples belong to class -1 and m/2 to class 1\n",
    "        \n",
    "        INPUTS:\n",
    "        m is the number of samples\n",
    "        d is the number of features/variables\n",
    "        d_rel is the number of relevant features\n",
    "        rho is the degree of redundancy (should be between 0 and 1)\n",
    "        \n",
    "        OUPUTS:\n",
    "        A dictionnary with the data and the labels\n",
    "    '''\n",
    "    if d_rel>=d:\n",
    "        raise ValueError('The input number of relevant features d_rel must be strictly less than the total number of features d')\n",
    "    if rho<0 or rho >1:\n",
    "        raise ValueError('The input argument rho controlling the degree of redundancy between the relevant features must be a value between 0 and 1.');\n",
    "    num_positives=int(m/2) ## Take half instances as positive examples\n",
    "    num_negatives=m-num_positives\n",
    "    labels=np.concatenate((np.ones((num_positives),dtype=np.int8),-np.ones((num_negatives),dtype=np.int8)))\n",
    "    mu_plus=np.concatenate((np.ones((d_rel),dtype=np.int8),np.zeros((d-d_rel)))) ## mean of the positive examples\n",
    "    mu_minus=np.concatenate((-np.ones((d_rel),dtype=np.int8),np.zeros(d-d_rel)))  ## mean of the negative examples\n",
    "    Sigma_star=rho*np.ones((d_rel,d_rel),dtype=np.int8)+(1-rho)*np.eye(d_rel)\n",
    "    sub1=np.concatenate((Sigma_star,np.zeros((d_rel,d-d_rel))))\n",
    "    sub2=np.concatenate((np.zeros((d-d_rel,d_rel)),np.eye(d-d_rel)))\n",
    "    Sigma=np.concatenate((sub1,sub2),axis=1) ## the covariance matrix\n",
    "    positive_ex=np.random.multivariate_normal(mu_plus, Sigma,num_positives)\n",
    "    negative_ex=np.random.multivariate_normal(mu_minus, Sigma,num_negatives)\n",
    "    data=np.concatenate((positive_ex,negative_ex),axis=0)\n",
    "    ## we randomly permute the examples...\n",
    "    order=ind=np.random.choice(range(m), size=m, replace=False)\n",
    "    data=data[order,]\n",
    "    labels=labels[order]\n",
    "    trueRelevantSet=np.zeros(d)\n",
    "    trueRelevantSet[range(d_rel)]=1\n",
    "    return {'data':data,'labels':labels,'trueRelevantSet':trueRelevantSet}\n"
   ]
  },
  {
   "cell_type": "markdown",
   "metadata": {},
   "source": [
    "# Optimizing Stability and Accuracy of Regularized Methods"
   ]
  },
  {
   "cell_type": "markdown",
   "metadata": {},
   "source": [
    "We pick the hyper-parameters used to generate the artifical dataset as in [1]. <br>\n",
    "We generate a data set with d=100 features where only the first d<sub>rel</sub> features a relevant to the target class.<br>\n",
    "We chose a medium degree of redundancy rho=0.5.\n",
    "The number of bootstrap samples chosen to quantify stability is M=100."
   ]
  },
  {
   "cell_type": "code",
   "execution_count": 14,
   "metadata": {
    "collapsed": false,
    "jupyter": {
     "outputs_hidden": false
    }
   },
   "outputs": [],
   "source": [
    "## we pick the hyper-parameters to generate the aritifical dataset\n",
    "m=1000 # number of samples\n",
    "d=100 # number of features \n",
    "d_rel=50 # the first d_rel features are relevant\n",
    "rho=0.5 # the degree of redundancy between the relevant features\n",
    "M=100 # number of bootstrap samples\n",
    "res=generateAtificialDataset(m,d,d_rel,rho)\n",
    "data=res['data']\n",
    "labels=res['labels']"
   ]
  },
  {
   "cell_type": "markdown",
   "metadata": {},
   "source": [
    "We apply L1-logistic regression with different regularizing parameters lambda on M bootstrap samples of the data using the scikit-learn package. We report the stability as given in [1] and the average out-of-bag (OOB) error over the M repeats."
   ]
  },
  {
   "cell_type": "code",
   "execution_count": 15,
   "metadata": {
    "collapsed": false,
    "jupyter": {
     "outputs_hidden": false
    }
   },
   "outputs": [],
   "source": [
    "from sklearn import linear_model\n",
    "from sklearn import datasets\n",
    "from sklearn import metrics\n",
    "from sklearn.linear_model import LogisticRegression\n",
    "import matplotlib.pyplot as plt\n",
    "from scipy.stats import norm\n",
    "\n",
    "## First, we pick the hyper-parameters \n",
    "alpha=0.05 # the level of significance for confidence intervals and hypothesis tests\n",
    "num_lambdas=10\n",
    "lambdas=np.linspace(-2,-1,num_lambdas)\n",
    "lambdas=np.power(10,lambdas) ## this gives us lambda values between 10e-2 and 10e-1 (lambda is the regularising parameter)\n",
    "Z=np.zeros((num_lambdas,M,d),dtype=np.int8)\n",
    "errors=np.zeros((M,num_lambdas))\n",
    "stabilities=np.zeros(num_lambdas)\n",
    "errStab=np.zeros(num_lambdas)\n",
    "numFeatSelected=np.zeros((M,num_lambdas),dtype=np.int32)\n",
    "## for each repeat\n",
    "for i in range(M):\n",
    "    newData=getBootstrapSample(data,labels) ## we get a bootstrap sample\n",
    "    for k in range(num_lambdas):\n",
    "        logistic = LogisticRegression(penalty='l1',solver='liblinear',C=lambdas[k],max_iter=100) ## We use logostic LASSO\n",
    "        logistic.fit(newData['bootData'],newData['bootLabels'])  ## we fit the coefficients \n",
    "        Z[k,i,:]=sum(logistic.coef_!=0)\n",
    "        numFeatSelected[i,k]=sum(sum(logistic.coef_!=0))\n",
    "        predLabels=logistic.predict(newData['OOBData'])\n",
    "        errors[i,k]=1-metrics.accuracy_score(newData['OOBLabels'], predLabels)\n",
    "meanError=np.mean(errors,0)\n",
    "errCI=norm.ppf(1-alpha/2)*(np.std(errors,0))/math.sqrt(M)\n",
    "\n",
    "for k in range(num_lambdas):\n",
    "    res=st.confidenceIntervals(Z[k,:,:],alpha=alpha) ## we get the confidence intervals using the stability package\n",
    "    stabilities[k]=res['stability']\n",
    "    errStab[k]=stabilities[k]-res['lower']\n",
    "    "
   ]
  },
  {
   "cell_type": "markdown",
   "metadata": {},
   "source": [
    "Let us first plot the number of features selected as we increase the regularizing parameter lambda."
   ]
  },
  {
   "cell_type": "code",
   "execution_count": 16,
   "metadata": {
    "collapsed": false,
    "jupyter": {
     "outputs_hidden": false
    }
   },
   "outputs": [
    {
     "data": {
      "image/png": "[encoded data removed]",
      "text/plain": [
       "<Figure size 432x288 with 1 Axes>"
      ]
     },
     "metadata": {
      "needs_background": "light"
     },
     "output_type": "display_data"
    }
   ],
   "source": [
    "plt.close()\n",
    "plt.figure()\n",
    "plt.plot(lambdas,np.mean(numFeatSelected,0),marker='o', linestyle='--')\n",
    "plt.xlabel('lambda')\n",
    "plt.ylabel('num. Features selected')\n",
    "plt.title('Number of Features selected against Lambda')\n",
    "plt.show()"
   ]
  },
  {
   "cell_type": "markdown",
   "metadata": {},
   "source": [
    "As we expect, the number of features selected decreases as we increase the regularization. <br>\n",
    "Let us now plot the average OOB error against lambda."
   ]
  },
  {
   "cell_type": "code",
   "execution_count": 17,
   "metadata": {
    "collapsed": false,
    "jupyter": {
     "outputs_hidden": false
    }
   },
   "outputs": [
    {
     "data": {
      "image/png": "[encoded data removed]",
      "text/plain": [
       "<Figure size 432x288 with 1 Axes>"
      ]
     },
     "metadata": {
      "needs_background": "light"
     },
     "output_type": "display_data"
    }
   ],
   "source": [
    "plt.close()\n",
    "plt.figure()\n",
    "plt.plot(lambdas,np.mean(errors,0),marker='o', linestyle='--')\n",
    "plt.xlabel('lambda')\n",
    "plt.ylabel('Av. error')\n",
    "plt.title('Average OOB Error')\n",
    "plt.show()"
   ]
  },
  {
   "cell_type": "markdown",
   "metadata": {},
   "source": [
    "Let us plot the stability against lambda using the 95% confidence intervals (using the stability package)."
   ]
  },
  {
   "cell_type": "code",
   "execution_count": 24,
   "metadata": {
    "collapsed": false,
    "jupyter": {
     "outputs_hidden": false
    }
   },
   "outputs": [
    {
     "data": {
      "image/png": "[encoded data removed]",
      "text/plain": [
       "<Figure size 432x288 with 1 Axes>"
      ]
     },
     "metadata": {
      "needs_background": "light"
     },
     "output_type": "display_data"
    }
   ],
   "source": [
    "plt.close()\n",
    "plt.figure()\n",
    "plt.errorbar(lambdas,stabilities,yerr=errStab,marker='o', linestyle='--')\n",
    "plt.xlabel('lambda')\n",
    "plt.ylabel('Stability')\n",
    "plt.title('Stability against Lambda')\n",
    "plt.show()"
   ]
  },
  {
   "cell_type": "markdown",
   "metadata": {},
   "source": [
    "We can plot the stability against the OOB error. "
   ]
  },
  {
   "cell_type": "code",
   "execution_count": 19,
   "metadata": {
    "collapsed": false,
    "jupyter": {
     "outputs_hidden": false
    }
   },
   "outputs": [
    {
     "data": {
      "image/png": "[encoded data removed]",
      "text/plain": [
       "<Figure size 432x288 with 1 Axes>"
      ]
     },
     "metadata": {
      "needs_background": "light"
     },
     "output_type": "display_data"
    }
   ],
   "source": [
    "plt.close()\n",
    "plt.figure()\n",
    "plt.errorbar(meanError,stabilities,yerr=errStab,marker='o', linestyle='--')\n",
    "plt.xlabel('Error')\n",
    "plt.ylabel('Stability')\n",
    "plt.title('Stability against Av. OOB Error')\n",
    "plt.show()"
   ]
  },
  {
   "cell_type": "markdown",
   "metadata": {},
   "source": [
    "<b>CONCLUSION:</b><br>\n",
    "As we can see from these figures, the value of the regularizing parameter that yields the maximal stability (out of the 10 regularizing parameters chosen) is not the one yielding the minimum error. Here, a trade-off between error and stability needs to chosen.<br> Nevertheless, we can see that making a small sacrife in terms of accuracy can largely improve stability. "
   ]
  },
  {
   "cell_type": "markdown",
   "metadata": {},
   "source": [
    "<b> USING THE ELASTIC NET </b> <br>\n",
    "In this section, we reproduce the experiments on the same data set using the elastic net. "
   ]
  },
  {
   "cell_type": "code",
   "execution_count": 13,
   "metadata": {
    "collapsed": false,
    "jupyter": {
     "outputs_hidden": false
    }
   },
   "outputs": [
    {
     "name": "stderr",
     "output_type": "stream",
     "text": [
      "/Users/liuyue/opt/anaconda3/lib/python3.8/site-packages/sklearn/linear_model/_coordinate_descent.py:530: ConvergenceWarning: Objective did not converge. You might want to increase the number of iterations. Duality gap: 94.45985487435631, tolerance: 0.09998999999999982\n",
      "  model = cd_fast.enet_coordinate_descent(\n",
      "/Users/liuyue/opt/anaconda3/lib/python3.8/site-packages/sklearn/linear_model/_coordinate_descent.py:530: ConvergenceWarning: Objective did not converge. You might want to increase the number of iterations. Duality gap: 43.36129319730745, tolerance: 0.09998999999999982\n",
      "  model = cd_fast.enet_coordinate_descent(\n",
      "/Users/liuyue/opt/anaconda3/lib/python3.8/site-packages/sklearn/linear_model/_coordinate_descent.py:530: ConvergenceWarning: Objective did not converge. You might want to increase the number of iterations. Duality gap: 7.8781471403436285, tolerance: 0.09998999999999982\n",
      "  model = cd_fast.enet_coordinate_descent(\n",
      "/Users/liuyue/opt/anaconda3/lib/python3.8/site-packages/sklearn/linear_model/_coordinate_descent.py:530: ConvergenceWarning: Objective did not converge. You might want to increase the number of iterations. Duality gap: 4.9174098941632, tolerance: 0.09998999999999982\n",
      "  model = cd_fast.enet_coordinate_descent(\n",
      "/Users/liuyue/opt/anaconda3/lib/python3.8/site-packages/sklearn/linear_model/_coordinate_descent.py:530: ConvergenceWarning: Objective did not converge. You might want to increase the number of iterations. Duality gap: 1.7798948329493953, tolerance: 0.09998999999999982\n",
      "  model = cd_fast.enet_coordinate_descent(\n",
      "/Users/liuyue/opt/anaconda3/lib/python3.8/site-packages/sklearn/linear_model/_coordinate_descent.py:530: ConvergenceWarning: Objective did not converge. You might want to increase the number of iterations. Duality gap: 0.5374798659262865, tolerance: 0.09998999999999982\n",
      "  model = cd_fast.enet_coordinate_descent(\n",
      "/Users/liuyue/opt/anaconda3/lib/python3.8/site-packages/sklearn/linear_model/_coordinate_descent.py:530: ConvergenceWarning: Objective did not converge. You might want to increase the number of iterations. Duality gap: 0.3090203218577017, tolerance: 0.09998999999999982\n",
      "  model = cd_fast.enet_coordinate_descent(\n",
      "/Users/liuyue/opt/anaconda3/lib/python3.8/site-packages/sklearn/linear_model/_coordinate_descent.py:530: ConvergenceWarning: Objective did not converge. You might want to increase the number of iterations. Duality gap: 5.673432837136801, tolerance: 0.09998999999999982\n",
      "  model = cd_fast.enet_coordinate_descent(\n",
      "/Users/liuyue/opt/anaconda3/lib/python3.8/site-packages/sklearn/linear_model/_coordinate_descent.py:530: ConvergenceWarning: Objective did not converge. You might want to increase the number of iterations. Duality gap: 0.2989219449235634, tolerance: 0.09998999999999982\n",
      "  model = cd_fast.enet_coordinate_descent(\n",
      "/Users/liuyue/opt/anaconda3/lib/python3.8/site-packages/sklearn/linear_model/_coordinate_descent.py:530: ConvergenceWarning: Objective did not converge. You might want to increase the number of iterations. Duality gap: 1.5415528537143928, tolerance: 0.09998999999999982\n",
      "  model = cd_fast.enet_coordinate_descent(\n",
      "/Users/liuyue/opt/anaconda3/lib/python3.8/site-packages/sklearn/linear_model/_coordinate_descent.py:530: ConvergenceWarning: Objective did not converge. You might want to increase the number of iterations. Duality gap: 0.629199266551268, tolerance: 0.09998999999999982\n",
      "  model = cd_fast.enet_coordinate_descent(\n",
      "/Users/liuyue/opt/anaconda3/lib/python3.8/site-packages/sklearn/linear_model/_coordinate_descent.py:530: ConvergenceWarning: Objective did not converge. You might want to increase the number of iterations. Duality gap: 107.64424523402488, tolerance: 0.09995999999999991\n",
      "  model = cd_fast.enet_coordinate_descent(\n",
      "/Users/liuyue/opt/anaconda3/lib/python3.8/site-packages/sklearn/linear_model/_coordinate_descent.py:530: ConvergenceWarning: Objective did not converge. You might want to increase the number of iterations. Duality gap: 44.37434299274298, tolerance: 0.09995999999999991\n",
      "  model = cd_fast.enet_coordinate_descent(\n",
      "/Users/liuyue/opt/anaconda3/lib/python3.8/site-packages/sklearn/linear_model/_coordinate_descent.py:530: ConvergenceWarning: Objective did not converge. You might want to increase the number of iterations. Duality gap: 5.990542949075689, tolerance: 0.09995999999999991\n",
      "  model = cd_fast.enet_coordinate_descent(\n",
      "/Users/liuyue/opt/anaconda3/lib/python3.8/site-packages/sklearn/linear_model/_coordinate_descent.py:530: ConvergenceWarning: Objective did not converge. You might want to increase the number of iterations. Duality gap: 0.9432531018738928, tolerance: 0.09995999999999991\n",
      "  model = cd_fast.enet_coordinate_descent(\n",
      "/Users/liuyue/opt/anaconda3/lib/python3.8/site-packages/sklearn/linear_model/_coordinate_descent.py:530: ConvergenceWarning: Objective did not converge. You might want to increase the number of iterations. Duality gap: 0.4044728417597412, tolerance: 0.09995999999999991\n",
      "  model = cd_fast.enet_coordinate_descent(\n",
      "/Users/liuyue/opt/anaconda3/lib/python3.8/site-packages/sklearn/linear_model/_coordinate_descent.py:530: ConvergenceWarning: Objective did not converge. You might want to increase the number of iterations. Duality gap: 4.497491196000425, tolerance: 0.09995999999999991\n",
      "  model = cd_fast.enet_coordinate_descent(\n",
      "/Users/liuyue/opt/anaconda3/lib/python3.8/site-packages/sklearn/linear_model/_coordinate_descent.py:530: ConvergenceWarning: Objective did not converge. You might want to increase the number of iterations. Duality gap: 0.18842927577901492, tolerance: 0.09995999999999991\n",
      "  model = cd_fast.enet_coordinate_descent(\n",
      "/Users/liuyue/opt/anaconda3/lib/python3.8/site-packages/sklearn/linear_model/_coordinate_descent.py:530: ConvergenceWarning: Objective did not converge. You might want to increase the number of iterations. Duality gap: 106.72120593245472, tolerance: 0.09999360000000006\n",
      "  model = cd_fast.enet_coordinate_descent(\n",
      "/Users/liuyue/opt/anaconda3/lib/python3.8/site-packages/sklearn/linear_model/_coordinate_descent.py:530: ConvergenceWarning: Objective did not converge. You might want to increase the number of iterations. Duality gap: 47.83467618714569, tolerance: 0.09999360000000006\n",
      "  model = cd_fast.enet_coordinate_descent(\n",
      "/Users/liuyue/opt/anaconda3/lib/python3.8/site-packages/sklearn/linear_model/_coordinate_descent.py:530: ConvergenceWarning: Objective did not converge. You might want to increase the number of iterations. Duality gap: 12.179578076982551, tolerance: 0.09999360000000006\n",
      "  model = cd_fast.enet_coordinate_descent(\n",
      "/Users/liuyue/opt/anaconda3/lib/python3.8/site-packages/sklearn/linear_model/_coordinate_descent.py:530: ConvergenceWarning: Objective did not converge. You might want to increase the number of iterations. Duality gap: 2.477603872598081, tolerance: 0.09999360000000006\n",
      "  model = cd_fast.enet_coordinate_descent(\n",
      "/Users/liuyue/opt/anaconda3/lib/python3.8/site-packages/sklearn/linear_model/_coordinate_descent.py:530: ConvergenceWarning: Objective did not converge. You might want to increase the number of iterations. Duality gap: 0.4432151367225856, tolerance: 0.09999360000000006\n",
      "  model = cd_fast.enet_coordinate_descent(\n",
      "/Users/liuyue/opt/anaconda3/lib/python3.8/site-packages/sklearn/linear_model/_coordinate_descent.py:530: ConvergenceWarning: Objective did not converge. You might want to increase the number of iterations. Duality gap: 4.692946164416043, tolerance: 0.09999360000000006\n",
      "  model = cd_fast.enet_coordinate_descent(\n",
      "/Users/liuyue/opt/anaconda3/lib/python3.8/site-packages/sklearn/linear_model/_coordinate_descent.py:530: ConvergenceWarning: Objective did not converge. You might want to increase the number of iterations. Duality gap: 0.4012135596574353, tolerance: 0.09999360000000006\n",
      "  model = cd_fast.enet_coordinate_descent(\n",
      "/Users/liuyue/opt/anaconda3/lib/python3.8/site-packages/sklearn/linear_model/_coordinate_descent.py:530: ConvergenceWarning: Objective did not converge. You might want to increase the number of iterations. Duality gap: 113.21154338723052, tolerance: 0.09987039999999985\n",
      "  model = cd_fast.enet_coordinate_descent(\n",
      "/Users/liuyue/opt/anaconda3/lib/python3.8/site-packages/sklearn/linear_model/_coordinate_descent.py:530: ConvergenceWarning: Objective did not converge. You might want to increase the number of iterations. Duality gap: 56.35934713353345, tolerance: 0.09987039999999985\n",
      "  model = cd_fast.enet_coordinate_descent(\n",
      "/Users/liuyue/opt/anaconda3/lib/python3.8/site-packages/sklearn/linear_model/_coordinate_descent.py:530: ConvergenceWarning: Objective did not converge. You might want to increase the number of iterations. Duality gap: 16.58987583386852, tolerance: 0.09987039999999985\n",
      "  model = cd_fast.enet_coordinate_descent(\n",
      "/Users/liuyue/opt/anaconda3/lib/python3.8/site-packages/sklearn/linear_model/_coordinate_descent.py:530: ConvergenceWarning: Objective did not converge. You might want to increase the number of iterations. Duality gap: 2.9582778277752197, tolerance: 0.09987039999999985\n",
      "  model = cd_fast.enet_coordinate_descent(\n",
      "/Users/liuyue/opt/anaconda3/lib/python3.8/site-packages/sklearn/linear_model/_coordinate_descent.py:530: ConvergenceWarning: Objective did not converge. You might want to increase the number of iterations. Duality gap: 0.36075742892637663, tolerance: 0.09987039999999985\n",
      "  model = cd_fast.enet_coordinate_descent(\n",
      "/Users/liuyue/opt/anaconda3/lib/python3.8/site-packages/sklearn/linear_model/_coordinate_descent.py:530: ConvergenceWarning: Objective did not converge. You might want to increase the number of iterations. Duality gap: 0.18050013118852348, tolerance: 0.09987039999999985\n",
      "  model = cd_fast.enet_coordinate_descent(\n",
      "/Users/liuyue/opt/anaconda3/lib/python3.8/site-packages/sklearn/linear_model/_coordinate_descent.py:530: ConvergenceWarning: Objective did not converge. You might want to increase the number of iterations. Duality gap: 7.583212450735687, tolerance: 0.09987039999999985\n",
      "  model = cd_fast.enet_coordinate_descent(\n",
      "/Users/liuyue/opt/anaconda3/lib/python3.8/site-packages/sklearn/linear_model/_coordinate_descent.py:530: ConvergenceWarning: Objective did not converge. You might want to increase the number of iterations. Duality gap: 0.15032488629742602, tolerance: 0.09987039999999985\n",
      "  model = cd_fast.enet_coordinate_descent(\n",
      "/Users/liuyue/opt/anaconda3/lib/python3.8/site-packages/sklearn/linear_model/_coordinate_descent.py:530: ConvergenceWarning: Objective did not converge. You might want to increase the number of iterations. Duality gap: 107.11569038595246, tolerance: 0.09995160000000003\n",
      "  model = cd_fast.enet_coordinate_descent(\n",
      "/Users/liuyue/opt/anaconda3/lib/python3.8/site-packages/sklearn/linear_model/_coordinate_descent.py:530: ConvergenceWarning: Objective did not converge. You might want to increase the number of iterations. Duality gap: 57.780829269788825, tolerance: 0.09995160000000003\n",
      "  model = cd_fast.enet_coordinate_descent(\n",
      "/Users/liuyue/opt/anaconda3/lib/python3.8/site-packages/sklearn/linear_model/_coordinate_descent.py:530: ConvergenceWarning: Objective did not converge. You might want to increase the number of iterations. Duality gap: 16.337946343117892, tolerance: 0.09995160000000003\n",
      "  model = cd_fast.enet_coordinate_descent(\n",
      "/Users/liuyue/opt/anaconda3/lib/python3.8/site-packages/sklearn/linear_model/_coordinate_descent.py:530: ConvergenceWarning: Objective did not converge. You might want to increase the number of iterations. Duality gap: 1.1737580876384754, tolerance: 0.09995160000000003\n",
      "  model = cd_fast.enet_coordinate_descent(\n",
      "/Users/liuyue/opt/anaconda3/lib/python3.8/site-packages/sklearn/linear_model/_coordinate_descent.py:530: ConvergenceWarning: Objective did not converge. You might want to increase the number of iterations. Duality gap: 0.4391520000501714, tolerance: 0.09995160000000003\n",
      "  model = cd_fast.enet_coordinate_descent(\n",
      "/Users/liuyue/opt/anaconda3/lib/python3.8/site-packages/sklearn/linear_model/_coordinate_descent.py:530: ConvergenceWarning: Objective did not converge. You might want to increase the number of iterations. Duality gap: 9.85947035666041, tolerance: 0.09995160000000003\n",
      "  model = cd_fast.enet_coordinate_descent(\n",
      "/Users/liuyue/opt/anaconda3/lib/python3.8/site-packages/sklearn/linear_model/_coordinate_descent.py:530: ConvergenceWarning: Objective did not converge. You might want to increase the number of iterations. Duality gap: 0.3874739276171226, tolerance: 0.09995160000000003\n",
      "  model = cd_fast.enet_coordinate_descent(\n",
      "/Users/liuyue/opt/anaconda3/lib/python3.8/site-packages/sklearn/linear_model/_coordinate_descent.py:530: ConvergenceWarning: Objective did not converge. You might want to increase the number of iterations. Duality gap: 85.18935556889006, tolerance: 0.09999840000000007\n",
      "  model = cd_fast.enet_coordinate_descent(\n",
      "/Users/liuyue/opt/anaconda3/lib/python3.8/site-packages/sklearn/linear_model/_coordinate_descent.py:530: ConvergenceWarning: Objective did not converge. You might want to increase the number of iterations. Duality gap: 36.011935694759956, tolerance: 0.09999840000000007\n",
      "  model = cd_fast.enet_coordinate_descent(\n",
      "/Users/liuyue/opt/anaconda3/lib/python3.8/site-packages/sklearn/linear_model/_coordinate_descent.py:530: ConvergenceWarning: Objective did not converge. You might want to increase the number of iterations. Duality gap: 6.586093563752627, tolerance: 0.09999840000000007\n",
      "  model = cd_fast.enet_coordinate_descent(\n",
      "/Users/liuyue/opt/anaconda3/lib/python3.8/site-packages/sklearn/linear_model/_coordinate_descent.py:530: ConvergenceWarning: Objective did not converge. You might want to increase the number of iterations. Duality gap: 1.2708887711227135, tolerance: 0.09999840000000007\n",
      "  model = cd_fast.enet_coordinate_descent(\n",
      "/Users/liuyue/opt/anaconda3/lib/python3.8/site-packages/sklearn/linear_model/_coordinate_descent.py:530: ConvergenceWarning: Objective did not converge. You might want to increase the number of iterations. Duality gap: 0.14548695105611387, tolerance: 0.09999840000000007\n",
      "  model = cd_fast.enet_coordinate_descent(\n",
      "/Users/liuyue/opt/anaconda3/lib/python3.8/site-packages/sklearn/linear_model/_coordinate_descent.py:530: ConvergenceWarning: Objective did not converge. You might want to increase the number of iterations. Duality gap: 0.10098992678422292, tolerance: 0.09999840000000007\n",
      "  model = cd_fast.enet_coordinate_descent(\n",
      "/Users/liuyue/opt/anaconda3/lib/python3.8/site-packages/sklearn/linear_model/_coordinate_descent.py:530: ConvergenceWarning: Objective did not converge. You might want to increase the number of iterations. Duality gap: 3.4214445861813374, tolerance: 0.09999840000000007\n",
      "  model = cd_fast.enet_coordinate_descent(\n",
      "/Users/liuyue/opt/anaconda3/lib/python3.8/site-packages/sklearn/linear_model/_coordinate_descent.py:530: ConvergenceWarning: Objective did not converge. You might want to increase the number of iterations. Duality gap: 0.29058602933150723, tolerance: 0.09999840000000007\n",
      "  model = cd_fast.enet_coordinate_descent(\n",
      "/Users/liuyue/opt/anaconda3/lib/python3.8/site-packages/sklearn/linear_model/_coordinate_descent.py:530: ConvergenceWarning: Objective did not converge. You might want to increase the number of iterations. Duality gap: 87.0751953987684, tolerance: 0.09995160000000003\n",
      "  model = cd_fast.enet_coordinate_descent(\n",
      "/Users/liuyue/opt/anaconda3/lib/python3.8/site-packages/sklearn/linear_model/_coordinate_descent.py:530: ConvergenceWarning: Objective did not converge. You might want to increase the number of iterations. Duality gap: 43.946414577210135, tolerance: 0.09995160000000003\n",
      "  model = cd_fast.enet_coordinate_descent(\n",
      "/Users/liuyue/opt/anaconda3/lib/python3.8/site-packages/sklearn/linear_model/_coordinate_descent.py:530: ConvergenceWarning: Objective did not converge. You might want to increase the number of iterations. Duality gap: 14.643937335676128, tolerance: 0.09995160000000003\n",
      "  model = cd_fast.enet_coordinate_descent(\n",
      "/Users/liuyue/opt/anaconda3/lib/python3.8/site-packages/sklearn/linear_model/_coordinate_descent.py:530: ConvergenceWarning: Objective did not converge. You might want to increase the number of iterations. Duality gap: 1.6675422480045938, tolerance: 0.09995160000000003\n",
      "  model = cd_fast.enet_coordinate_descent(\n",
      "/Users/liuyue/opt/anaconda3/lib/python3.8/site-packages/sklearn/linear_model/_coordinate_descent.py:530: ConvergenceWarning: Objective did not converge. You might want to increase the number of iterations. Duality gap: 0.9604943991604955, tolerance: 0.09995160000000003\n",
      "  model = cd_fast.enet_coordinate_descent(\n",
      "/Users/liuyue/opt/anaconda3/lib/python3.8/site-packages/sklearn/linear_model/_coordinate_descent.py:530: ConvergenceWarning: Objective did not converge. You might want to increase the number of iterations. Duality gap: 0.27821659798883047, tolerance: 0.09995160000000003\n",
      "  model = cd_fast.enet_coordinate_descent(\n",
      "/Users/liuyue/opt/anaconda3/lib/python3.8/site-packages/sklearn/linear_model/_coordinate_descent.py:530: ConvergenceWarning: Objective did not converge. You might want to increase the number of iterations. Duality gap: 7.449095363736461, tolerance: 0.09995160000000003\n",
      "  model = cd_fast.enet_coordinate_descent(\n",
      "/Users/liuyue/opt/anaconda3/lib/python3.8/site-packages/sklearn/linear_model/_coordinate_descent.py:530: ConvergenceWarning: Objective did not converge. You might want to increase the number of iterations. Duality gap: 0.7150996685503515, tolerance: 0.09995160000000003\n",
      "  model = cd_fast.enet_coordinate_descent(\n",
      "/Users/liuyue/opt/anaconda3/lib/python3.8/site-packages/sklearn/linear_model/_coordinate_descent.py:530: ConvergenceWarning: Objective did not converge. You might want to increase the number of iterations. Duality gap: 101.14075557131777, tolerance: 0.0996636000000002\n",
      "  model = cd_fast.enet_coordinate_descent(\n",
      "/Users/liuyue/opt/anaconda3/lib/python3.8/site-packages/sklearn/linear_model/_coordinate_descent.py:530: ConvergenceWarning: Objective did not converge. You might want to increase the number of iterations. Duality gap: 34.50596537113657, tolerance: 0.0996636000000002\n",
      "  model = cd_fast.enet_coordinate_descent(\n",
      "/Users/liuyue/opt/anaconda3/lib/python3.8/site-packages/sklearn/linear_model/_coordinate_descent.py:530: ConvergenceWarning: Objective did not converge. You might want to increase the number of iterations. Duality gap: 14.540252634149056, tolerance: 0.0996636000000002\n",
      "  model = cd_fast.enet_coordinate_descent(\n",
      "/Users/liuyue/opt/anaconda3/lib/python3.8/site-packages/sklearn/linear_model/_coordinate_descent.py:530: ConvergenceWarning: Objective did not converge. You might want to increase the number of iterations. Duality gap: 3.212134669560129, tolerance: 0.0996636000000002\n",
      "  model = cd_fast.enet_coordinate_descent(\n",
      "/Users/liuyue/opt/anaconda3/lib/python3.8/site-packages/sklearn/linear_model/_coordinate_descent.py:530: ConvergenceWarning: Objective did not converge. You might want to increase the number of iterations. Duality gap: 0.37154785589598305, tolerance: 0.0996636000000002\n",
      "  model = cd_fast.enet_coordinate_descent(\n",
      "/Users/liuyue/opt/anaconda3/lib/python3.8/site-packages/sklearn/linear_model/_coordinate_descent.py:530: ConvergenceWarning: Objective did not converge. You might want to increase the number of iterations. Duality gap: 0.3006454036423065, tolerance: 0.0996636000000002\n",
      "  model = cd_fast.enet_coordinate_descent(\n",
      "/Users/liuyue/opt/anaconda3/lib/python3.8/site-packages/sklearn/linear_model/_coordinate_descent.py:530: ConvergenceWarning: Objective did not converge. You might want to increase the number of iterations. Duality gap: 2.13118657807118, tolerance: 0.0996636000000002\n",
      "  model = cd_fast.enet_coordinate_descent(\n",
      "/Users/liuyue/opt/anaconda3/lib/python3.8/site-packages/sklearn/linear_model/_coordinate_descent.py:530: ConvergenceWarning: Objective did not converge. You might want to increase the number of iterations. Duality gap: 0.18839953324288672, tolerance: 0.0996636000000002\n",
      "  model = cd_fast.enet_coordinate_descent(\n",
      "/Users/liuyue/opt/anaconda3/lib/python3.8/site-packages/sklearn/linear_model/_coordinate_descent.py:530: ConvergenceWarning: Objective did not converge. You might want to increase the number of iterations. Duality gap: 114.68987844953105, tolerance: 0.09994239999999975\n",
      "  model = cd_fast.enet_coordinate_descent(\n",
      "/Users/liuyue/opt/anaconda3/lib/python3.8/site-packages/sklearn/linear_model/_coordinate_descent.py:530: ConvergenceWarning: Objective did not converge. You might want to increase the number of iterations. Duality gap: 67.08169960093512, tolerance: 0.09994239999999975\n",
      "  model = cd_fast.enet_coordinate_descent(\n",
      "/Users/liuyue/opt/anaconda3/lib/python3.8/site-packages/sklearn/linear_model/_coordinate_descent.py:530: ConvergenceWarning: Objective did not converge. You might want to increase the number of iterations. Duality gap: 20.857454380824663, tolerance: 0.09994239999999975\n",
      "  model = cd_fast.enet_coordinate_descent(\n",
      "/Users/liuyue/opt/anaconda3/lib/python3.8/site-packages/sklearn/linear_model/_coordinate_descent.py:530: ConvergenceWarning: Objective did not converge. You might want to increase the number of iterations. Duality gap: 3.1656982148415977, tolerance: 0.09994239999999975\n",
      "  model = cd_fast.enet_coordinate_descent(\n",
      "/Users/liuyue/opt/anaconda3/lib/python3.8/site-packages/sklearn/linear_model/_coordinate_descent.py:530: ConvergenceWarning: Objective did not converge. You might want to increase the number of iterations. Duality gap: 0.908054274431322, tolerance: 0.09994239999999975\n",
      "  model = cd_fast.enet_coordinate_descent(\n",
      "/Users/liuyue/opt/anaconda3/lib/python3.8/site-packages/sklearn/linear_model/_coordinate_descent.py:530: ConvergenceWarning: Objective did not converge. You might want to increase the number of iterations. Duality gap: 0.1523566014654989, tolerance: 0.09994239999999975\n",
      "  model = cd_fast.enet_coordinate_descent(\n",
      "/Users/liuyue/opt/anaconda3/lib/python3.8/site-packages/sklearn/linear_model/_coordinate_descent.py:530: ConvergenceWarning: Objective did not converge. You might want to increase the number of iterations. Duality gap: 7.726934061984593, tolerance: 0.09994239999999975\n",
      "  model = cd_fast.enet_coordinate_descent(\n",
      "/Users/liuyue/opt/anaconda3/lib/python3.8/site-packages/sklearn/linear_model/_coordinate_descent.py:530: ConvergenceWarning: Objective did not converge. You might want to increase the number of iterations. Duality gap: 0.5145674318398505, tolerance: 0.09994239999999975\n",
      "  model = cd_fast.enet_coordinate_descent(\n",
      "/Users/liuyue/opt/anaconda3/lib/python3.8/site-packages/sklearn/linear_model/_coordinate_descent.py:530: ConvergenceWarning: Objective did not converge. You might want to increase the number of iterations. Duality gap: 98.14147683382583, tolerance: 0.09999360000000007\n",
      "  model = cd_fast.enet_coordinate_descent(\n",
      "/Users/liuyue/opt/anaconda3/lib/python3.8/site-packages/sklearn/linear_model/_coordinate_descent.py:530: ConvergenceWarning: Objective did not converge. You might want to increase the number of iterations. Duality gap: 36.30082595958078, tolerance: 0.09999360000000007\n",
      "  model = cd_fast.enet_coordinate_descent(\n",
      "/Users/liuyue/opt/anaconda3/lib/python3.8/site-packages/sklearn/linear_model/_coordinate_descent.py:530: ConvergenceWarning: Objective did not converge. You might want to increase the number of iterations. Duality gap: 17.020987697631597, tolerance: 0.09999360000000007\n",
      "  model = cd_fast.enet_coordinate_descent(\n",
      "/Users/liuyue/opt/anaconda3/lib/python3.8/site-packages/sklearn/linear_model/_coordinate_descent.py:530: ConvergenceWarning: Objective did not converge. You might want to increase the number of iterations. Duality gap: 3.369113602101976, tolerance: 0.09999360000000007\n",
      "  model = cd_fast.enet_coordinate_descent(\n",
      "/Users/liuyue/opt/anaconda3/lib/python3.8/site-packages/sklearn/linear_model/_coordinate_descent.py:530: ConvergenceWarning: Objective did not converge. You might want to increase the number of iterations. Duality gap: 0.7980558677328418, tolerance: 0.09999360000000007\n",
      "  model = cd_fast.enet_coordinate_descent(\n",
      "/Users/liuyue/opt/anaconda3/lib/python3.8/site-packages/sklearn/linear_model/_coordinate_descent.py:530: ConvergenceWarning: Objective did not converge. You might want to increase the number of iterations. Duality gap: 0.3457134284082599, tolerance: 0.09999360000000007\n",
      "  model = cd_fast.enet_coordinate_descent(\n",
      "/Users/liuyue/opt/anaconda3/lib/python3.8/site-packages/sklearn/linear_model/_coordinate_descent.py:530: ConvergenceWarning: Objective did not converge. You might want to increase the number of iterations. Duality gap: 9.63694313670058, tolerance: 0.09999360000000007\n",
      "  model = cd_fast.enet_coordinate_descent(\n",
      "/Users/liuyue/opt/anaconda3/lib/python3.8/site-packages/sklearn/linear_model/_coordinate_descent.py:530: ConvergenceWarning: Objective did not converge. You might want to increase the number of iterations. Duality gap: 1.2831158466949546, tolerance: 0.09999360000000007\n",
      "  model = cd_fast.enet_coordinate_descent(\n",
      "/Users/liuyue/opt/anaconda3/lib/python3.8/site-packages/sklearn/linear_model/_coordinate_descent.py:530: ConvergenceWarning: Objective did not converge. You might want to increase the number of iterations. Duality gap: 0.22484412133752585, tolerance: 0.09999360000000007\n",
      "  model = cd_fast.enet_coordinate_descent(\n",
      "/Users/liuyue/opt/anaconda3/lib/python3.8/site-packages/sklearn/linear_model/_coordinate_descent.py:530: ConvergenceWarning: Objective did not converge. You might want to increase the number of iterations. Duality gap: 113.52763610908754, tolerance: 0.09980640000000006\n",
      "  model = cd_fast.enet_coordinate_descent(\n",
      "/Users/liuyue/opt/anaconda3/lib/python3.8/site-packages/sklearn/linear_model/_coordinate_descent.py:530: ConvergenceWarning: Objective did not converge. You might want to increase the number of iterations. Duality gap: 56.71207705160106, tolerance: 0.09980640000000006\n",
      "  model = cd_fast.enet_coordinate_descent(\n",
      "/Users/liuyue/opt/anaconda3/lib/python3.8/site-packages/sklearn/linear_model/_coordinate_descent.py:530: ConvergenceWarning: Objective did not converge. You might want to increase the number of iterations. Duality gap: 16.87661027610531, tolerance: 0.09980640000000006\n",
      "  model = cd_fast.enet_coordinate_descent(\n",
      "/Users/liuyue/opt/anaconda3/lib/python3.8/site-packages/sklearn/linear_model/_coordinate_descent.py:530: ConvergenceWarning: Objective did not converge. You might want to increase the number of iterations. Duality gap: 1.0984948636027525, tolerance: 0.09980640000000006\n",
      "  model = cd_fast.enet_coordinate_descent(\n",
      "/Users/liuyue/opt/anaconda3/lib/python3.8/site-packages/sklearn/linear_model/_coordinate_descent.py:530: ConvergenceWarning: Objective did not converge. You might want to increase the number of iterations. Duality gap: 0.14045263120158324, tolerance: 0.09980640000000006\n",
      "  model = cd_fast.enet_coordinate_descent(\n",
      "/Users/liuyue/opt/anaconda3/lib/python3.8/site-packages/sklearn/linear_model/_coordinate_descent.py:530: ConvergenceWarning: Objective did not converge. You might want to increase the number of iterations. Duality gap: 9.870948382093417, tolerance: 0.09980640000000006\n",
      "  model = cd_fast.enet_coordinate_descent(\n",
      "/Users/liuyue/opt/anaconda3/lib/python3.8/site-packages/sklearn/linear_model/_coordinate_descent.py:530: ConvergenceWarning: Objective did not converge. You might want to increase the number of iterations. Duality gap: 0.6591684513330733, tolerance: 0.09980640000000006\n",
      "  model = cd_fast.enet_coordinate_descent(\n",
      "/Users/liuyue/opt/anaconda3/lib/python3.8/site-packages/sklearn/linear_model/_coordinate_descent.py:530: ConvergenceWarning: Objective did not converge. You might want to increase the number of iterations. Duality gap: 95.45901280062867, tolerance: 0.09999840000000008\n",
      "  model = cd_fast.enet_coordinate_descent(\n",
      "/Users/liuyue/opt/anaconda3/lib/python3.8/site-packages/sklearn/linear_model/_coordinate_descent.py:530: ConvergenceWarning: Objective did not converge. You might want to increase the number of iterations. Duality gap: 38.045588035740906, tolerance: 0.09999840000000008\n",
      "  model = cd_fast.enet_coordinate_descent(\n",
      "/Users/liuyue/opt/anaconda3/lib/python3.8/site-packages/sklearn/linear_model/_coordinate_descent.py:530: ConvergenceWarning: Objective did not converge. You might want to increase the number of iterations. Duality gap: 7.310221380384434, tolerance: 0.09999840000000008\n",
      "  model = cd_fast.enet_coordinate_descent(\n",
      "/Users/liuyue/opt/anaconda3/lib/python3.8/site-packages/sklearn/linear_model/_coordinate_descent.py:530: ConvergenceWarning: Objective did not converge. You might want to increase the number of iterations. Duality gap: 5.9651642515608785, tolerance: 0.09999840000000008\n",
      "  model = cd_fast.enet_coordinate_descent(\n",
      "/Users/liuyue/opt/anaconda3/lib/python3.8/site-packages/sklearn/linear_model/_coordinate_descent.py:530: ConvergenceWarning: Objective did not converge. You might want to increase the number of iterations. Duality gap: 0.6862199397739346, tolerance: 0.09999840000000008\n",
      "  model = cd_fast.enet_coordinate_descent(\n",
      "/Users/liuyue/opt/anaconda3/lib/python3.8/site-packages/sklearn/linear_model/_coordinate_descent.py:530: ConvergenceWarning: Objective did not converge. You might want to increase the number of iterations. Duality gap: 0.4100154297119616, tolerance: 0.09999840000000008\n",
      "  model = cd_fast.enet_coordinate_descent(\n",
      "/Users/liuyue/opt/anaconda3/lib/python3.8/site-packages/sklearn/linear_model/_coordinate_descent.py:530: ConvergenceWarning: Objective did not converge. You might want to increase the number of iterations. Duality gap: 0.1497776044790271, tolerance: 0.09999840000000008\n",
      "  model = cd_fast.enet_coordinate_descent(\n",
      "/Users/liuyue/opt/anaconda3/lib/python3.8/site-packages/sklearn/linear_model/_coordinate_descent.py:530: ConvergenceWarning: Objective did not converge. You might want to increase the number of iterations. Duality gap: 13.267927223030028, tolerance: 0.09999840000000008\n",
      "  model = cd_fast.enet_coordinate_descent(\n",
      "/Users/liuyue/opt/anaconda3/lib/python3.8/site-packages/sklearn/linear_model/_coordinate_descent.py:530: ConvergenceWarning: Objective did not converge. You might want to increase the number of iterations. Duality gap: 0.5200647015244613, tolerance: 0.09999840000000008\n",
      "  model = cd_fast.enet_coordinate_descent(\n",
      "/Users/liuyue/opt/anaconda3/lib/python3.8/site-packages/sklearn/linear_model/_coordinate_descent.py:530: ConvergenceWarning: Objective did not converge. You might want to increase the number of iterations. Duality gap: 3.6518167270289155, tolerance: 0.09999840000000008\n",
      "  model = cd_fast.enet_coordinate_descent(\n",
      "/Users/liuyue/opt/anaconda3/lib/python3.8/site-packages/sklearn/linear_model/_coordinate_descent.py:530: ConvergenceWarning: Objective did not converge. You might want to increase the number of iterations. Duality gap: 1.3171883856726936, tolerance: 0.09999840000000008\n",
      "  model = cd_fast.enet_coordinate_descent(\n",
      "/Users/liuyue/opt/anaconda3/lib/python3.8/site-packages/sklearn/linear_model/_coordinate_descent.py:530: ConvergenceWarning: Objective did not converge. You might want to increase the number of iterations. Duality gap: 0.26904870860846586, tolerance: 0.09999840000000008\n",
      "  model = cd_fast.enet_coordinate_descent(\n",
      "/Users/liuyue/opt/anaconda3/lib/python3.8/site-packages/sklearn/linear_model/_coordinate_descent.py:530: ConvergenceWarning: Objective did not converge. You might want to increase the number of iterations. Duality gap: 100.35343062582022, tolerance: 0.09988440000000003\n",
      "  model = cd_fast.enet_coordinate_descent(\n",
      "/Users/liuyue/opt/anaconda3/lib/python3.8/site-packages/sklearn/linear_model/_coordinate_descent.py:530: ConvergenceWarning: Objective did not converge. You might want to increase the number of iterations. Duality gap: 54.00191398814124, tolerance: 0.09988440000000003\n",
      "  model = cd_fast.enet_coordinate_descent(\n",
      "/Users/liuyue/opt/anaconda3/lib/python3.8/site-packages/sklearn/linear_model/_coordinate_descent.py:530: ConvergenceWarning: Objective did not converge. You might want to increase the number of iterations. Duality gap: 19.631529968773634, tolerance: 0.09988440000000003\n",
      "  model = cd_fast.enet_coordinate_descent(\n",
      "/Users/liuyue/opt/anaconda3/lib/python3.8/site-packages/sklearn/linear_model/_coordinate_descent.py:530: ConvergenceWarning: Objective did not converge. You might want to increase the number of iterations. Duality gap: 4.398876482781162, tolerance: 0.09988440000000003\n",
      "  model = cd_fast.enet_coordinate_descent(\n",
      "/Users/liuyue/opt/anaconda3/lib/python3.8/site-packages/sklearn/linear_model/_coordinate_descent.py:530: ConvergenceWarning: Objective did not converge. You might want to increase the number of iterations. Duality gap: 0.5045312908951018, tolerance: 0.09988440000000003\n",
      "  model = cd_fast.enet_coordinate_descent(\n",
      "/Users/liuyue/opt/anaconda3/lib/python3.8/site-packages/sklearn/linear_model/_coordinate_descent.py:530: ConvergenceWarning: Objective did not converge. You might want to increase the number of iterations. Duality gap: 0.3420874221833401, tolerance: 0.09988440000000003\n",
      "  model = cd_fast.enet_coordinate_descent(\n",
      "/Users/liuyue/opt/anaconda3/lib/python3.8/site-packages/sklearn/linear_model/_coordinate_descent.py:530: ConvergenceWarning: Objective did not converge. You might want to increase the number of iterations. Duality gap: 10.025577806164762, tolerance: 0.09988440000000003\n",
      "  model = cd_fast.enet_coordinate_descent(\n",
      "/Users/liuyue/opt/anaconda3/lib/python3.8/site-packages/sklearn/linear_model/_coordinate_descent.py:530: ConvergenceWarning: Objective did not converge. You might want to increase the number of iterations. Duality gap: 0.8266592081433828, tolerance: 0.09988440000000003\n",
      "  model = cd_fast.enet_coordinate_descent(\n",
      "/Users/liuyue/opt/anaconda3/lib/python3.8/site-packages/sklearn/linear_model/_coordinate_descent.py:530: ConvergenceWarning: Objective did not converge. You might want to increase the number of iterations. Duality gap: 0.12047424457176703, tolerance: 0.09988440000000003\n",
      "  model = cd_fast.enet_coordinate_descent(\n",
      "/Users/liuyue/opt/anaconda3/lib/python3.8/site-packages/sklearn/linear_model/_coordinate_descent.py:530: ConvergenceWarning: Objective did not converge. You might want to increase the number of iterations. Duality gap: 0.1375025681685429, tolerance: 0.09988440000000003\n",
      "  model = cd_fast.enet_coordinate_descent(\n",
      "/Users/liuyue/opt/anaconda3/lib/python3.8/site-packages/sklearn/linear_model/_coordinate_descent.py:530: ConvergenceWarning: Objective did not converge. You might want to increase the number of iterations. Duality gap: 69.68704510514337, tolerance: 0.09980640000000009\n",
      "  model = cd_fast.enet_coordinate_descent(\n",
      "/Users/liuyue/opt/anaconda3/lib/python3.8/site-packages/sklearn/linear_model/_coordinate_descent.py:530: ConvergenceWarning: Objective did not converge. You might want to increase the number of iterations. Duality gap: 33.91711893460487, tolerance: 0.09980640000000009\n",
      "  model = cd_fast.enet_coordinate_descent(\n",
      "/Users/liuyue/opt/anaconda3/lib/python3.8/site-packages/sklearn/linear_model/_coordinate_descent.py:530: ConvergenceWarning: Objective did not converge. You might want to increase the number of iterations. Duality gap: 8.837740525780333, tolerance: 0.09980640000000009\n",
      "  model = cd_fast.enet_coordinate_descent(\n",
      "/Users/liuyue/opt/anaconda3/lib/python3.8/site-packages/sklearn/linear_model/_coordinate_descent.py:530: ConvergenceWarning: Objective did not converge. You might want to increase the number of iterations. Duality gap: 1.243273316211912, tolerance: 0.09980640000000009\n",
      "  model = cd_fast.enet_coordinate_descent(\n",
      "/Users/liuyue/opt/anaconda3/lib/python3.8/site-packages/sklearn/linear_model/_coordinate_descent.py:530: ConvergenceWarning: Objective did not converge. You might want to increase the number of iterations. Duality gap: 0.20899507735873613, tolerance: 0.09980640000000009\n",
      "  model = cd_fast.enet_coordinate_descent(\n",
      "/Users/liuyue/opt/anaconda3/lib/python3.8/site-packages/sklearn/linear_model/_coordinate_descent.py:530: ConvergenceWarning: Objective did not converge. You might want to increase the number of iterations. Duality gap: 5.18705653720491, tolerance: 0.09980640000000009\n",
      "  model = cd_fast.enet_coordinate_descent(\n",
      "/Users/liuyue/opt/anaconda3/lib/python3.8/site-packages/sklearn/linear_model/_coordinate_descent.py:530: ConvergenceWarning: Objective did not converge. You might want to increase the number of iterations. Duality gap: 0.5375750815524043, tolerance: 0.09980640000000009\n",
      "  model = cd_fast.enet_coordinate_descent(\n",
      "/Users/liuyue/opt/anaconda3/lib/python3.8/site-packages/sklearn/linear_model/_coordinate_descent.py:530: ConvergenceWarning: Objective did not converge. You might want to increase the number of iterations. Duality gap: 0.10407103218506109, tolerance: 0.09980640000000009\n",
      "  model = cd_fast.enet_coordinate_descent(\n",
      "/Users/liuyue/opt/anaconda3/lib/python3.8/site-packages/sklearn/linear_model/_coordinate_descent.py:530: ConvergenceWarning: Objective did not converge. You might want to increase the number of iterations. Duality gap: 0.1765945165237781, tolerance: 0.09980640000000009\n",
      "  model = cd_fast.enet_coordinate_descent(\n",
      "/Users/liuyue/opt/anaconda3/lib/python3.8/site-packages/sklearn/linear_model/_coordinate_descent.py:530: ConvergenceWarning: Objective did not converge. You might want to increase the number of iterations. Duality gap: 109.51911865031889, tolerance: 0.09991000000000001\n",
      "  model = cd_fast.enet_coordinate_descent(\n",
      "/Users/liuyue/opt/anaconda3/lib/python3.8/site-packages/sklearn/linear_model/_coordinate_descent.py:530: ConvergenceWarning: Objective did not converge. You might want to increase the number of iterations. Duality gap: 59.01421502393674, tolerance: 0.09991000000000001\n",
      "  model = cd_fast.enet_coordinate_descent(\n",
      "/Users/liuyue/opt/anaconda3/lib/python3.8/site-packages/sklearn/linear_model/_coordinate_descent.py:530: ConvergenceWarning: Objective did not converge. You might want to increase the number of iterations. Duality gap: 16.804676453759583, tolerance: 0.09991000000000001\n",
      "  model = cd_fast.enet_coordinate_descent(\n",
      "/Users/liuyue/opt/anaconda3/lib/python3.8/site-packages/sklearn/linear_model/_coordinate_descent.py:530: ConvergenceWarning: Objective did not converge. You might want to increase the number of iterations. Duality gap: 1.746786051192771, tolerance: 0.09991000000000001\n",
      "  model = cd_fast.enet_coordinate_descent(\n",
      "/Users/liuyue/opt/anaconda3/lib/python3.8/site-packages/sklearn/linear_model/_coordinate_descent.py:530: ConvergenceWarning: Objective did not converge. You might want to increase the number of iterations. Duality gap: 1.233699712273335, tolerance: 0.09991000000000001\n",
      "  model = cd_fast.enet_coordinate_descent(\n",
      "/Users/liuyue/opt/anaconda3/lib/python3.8/site-packages/sklearn/linear_model/_coordinate_descent.py:530: ConvergenceWarning: Objective did not converge. You might want to increase the number of iterations. Duality gap: 0.47450566202974187, tolerance: 0.09991000000000001\n",
      "  model = cd_fast.enet_coordinate_descent(\n",
      "/Users/liuyue/opt/anaconda3/lib/python3.8/site-packages/sklearn/linear_model/_coordinate_descent.py:530: ConvergenceWarning: Objective did not converge. You might want to increase the number of iterations. Duality gap: 0.2534576126347474, tolerance: 0.09991000000000001\n",
      "  model = cd_fast.enet_coordinate_descent(\n",
      "/Users/liuyue/opt/anaconda3/lib/python3.8/site-packages/sklearn/linear_model/_coordinate_descent.py:530: ConvergenceWarning: Objective did not converge. You might want to increase the number of iterations. Duality gap: 11.141178437620823, tolerance: 0.09991000000000001\n",
      "  model = cd_fast.enet_coordinate_descent(\n",
      "/Users/liuyue/opt/anaconda3/lib/python3.8/site-packages/sklearn/linear_model/_coordinate_descent.py:530: ConvergenceWarning: Objective did not converge. You might want to increase the number of iterations. Duality gap: 0.3240079545479375, tolerance: 0.09991000000000001\n",
      "  model = cd_fast.enet_coordinate_descent(\n",
      "/Users/liuyue/opt/anaconda3/lib/python3.8/site-packages/sklearn/linear_model/_coordinate_descent.py:530: ConvergenceWarning: Objective did not converge. You might want to increase the number of iterations. Duality gap: 1.6951155971444507, tolerance: 0.09991000000000001\n",
      "  model = cd_fast.enet_coordinate_descent(\n",
      "/Users/liuyue/opt/anaconda3/lib/python3.8/site-packages/sklearn/linear_model/_coordinate_descent.py:530: ConvergenceWarning: Objective did not converge. You might want to increase the number of iterations. Duality gap: 0.24144531689961468, tolerance: 0.09991000000000001\n",
      "  model = cd_fast.enet_coordinate_descent(\n",
      "/Users/liuyue/opt/anaconda3/lib/python3.8/site-packages/sklearn/linear_model/_coordinate_descent.py:530: ConvergenceWarning: Objective did not converge. You might want to increase the number of iterations. Duality gap: 0.15011144791014885, tolerance: 0.09991000000000001\n",
      "  model = cd_fast.enet_coordinate_descent(\n",
      "/Users/liuyue/opt/anaconda3/lib/python3.8/site-packages/sklearn/linear_model/_coordinate_descent.py:530: ConvergenceWarning: Objective did not converge. You might want to increase the number of iterations. Duality gap: 0.10746817517360796, tolerance: 0.09991000000000001\n",
      "  model = cd_fast.enet_coordinate_descent(\n",
      "/Users/liuyue/opt/anaconda3/lib/python3.8/site-packages/sklearn/linear_model/_coordinate_descent.py:530: ConvergenceWarning: Objective did not converge. You might want to increase the number of iterations. Duality gap: 116.78041247758935, tolerance: 0.09982360000000004\n",
      "  model = cd_fast.enet_coordinate_descent(\n",
      "/Users/liuyue/opt/anaconda3/lib/python3.8/site-packages/sklearn/linear_model/_coordinate_descent.py:530: ConvergenceWarning: Objective did not converge. You might want to increase the number of iterations. Duality gap: 68.11634097044396, tolerance: 0.09982360000000004\n",
      "  model = cd_fast.enet_coordinate_descent(\n",
      "/Users/liuyue/opt/anaconda3/lib/python3.8/site-packages/sklearn/linear_model/_coordinate_descent.py:530: ConvergenceWarning: Objective did not converge. You might want to increase the number of iterations. Duality gap: 21.733737177591678, tolerance: 0.09982360000000004\n",
      "  model = cd_fast.enet_coordinate_descent(\n",
      "/Users/liuyue/opt/anaconda3/lib/python3.8/site-packages/sklearn/linear_model/_coordinate_descent.py:530: ConvergenceWarning: Objective did not converge. You might want to increase the number of iterations. Duality gap: 4.20797113520922, tolerance: 0.09982360000000004\n",
      "  model = cd_fast.enet_coordinate_descent(\n",
      "/Users/liuyue/opt/anaconda3/lib/python3.8/site-packages/sklearn/linear_model/_coordinate_descent.py:530: ConvergenceWarning: Objective did not converge. You might want to increase the number of iterations. Duality gap: 0.7523291007557873, tolerance: 0.09982360000000004\n",
      "  model = cd_fast.enet_coordinate_descent(\n",
      "/Users/liuyue/opt/anaconda3/lib/python3.8/site-packages/sklearn/linear_model/_coordinate_descent.py:530: ConvergenceWarning: Objective did not converge. You might want to increase the number of iterations. Duality gap: 0.33067040744714404, tolerance: 0.09982360000000004\n",
      "  model = cd_fast.enet_coordinate_descent(\n",
      "/Users/liuyue/opt/anaconda3/lib/python3.8/site-packages/sklearn/linear_model/_coordinate_descent.py:530: ConvergenceWarning: Objective did not converge. You might want to increase the number of iterations. Duality gap: 15.474964442205874, tolerance: 0.09982360000000004\n",
      "  model = cd_fast.enet_coordinate_descent(\n",
      "/Users/liuyue/opt/anaconda3/lib/python3.8/site-packages/sklearn/linear_model/_coordinate_descent.py:530: ConvergenceWarning: Objective did not converge. You might want to increase the number of iterations. Duality gap: 0.7556957090768606, tolerance: 0.09982360000000004\n",
      "  model = cd_fast.enet_coordinate_descent(\n",
      "/Users/liuyue/opt/anaconda3/lib/python3.8/site-packages/sklearn/linear_model/_coordinate_descent.py:530: ConvergenceWarning: Objective did not converge. You might want to increase the number of iterations. Duality gap: 82.0758592621194, tolerance: 0.09976960000000007\n",
      "  model = cd_fast.enet_coordinate_descent(\n",
      "/Users/liuyue/opt/anaconda3/lib/python3.8/site-packages/sklearn/linear_model/_coordinate_descent.py:530: ConvergenceWarning: Objective did not converge. You might want to increase the number of iterations. Duality gap: 31.203186661807564, tolerance: 0.09976960000000007\n",
      "  model = cd_fast.enet_coordinate_descent(\n",
      "/Users/liuyue/opt/anaconda3/lib/python3.8/site-packages/sklearn/linear_model/_coordinate_descent.py:530: ConvergenceWarning: Objective did not converge. You might want to increase the number of iterations. Duality gap: 6.37916262485993, tolerance: 0.09976960000000007\n",
      "  model = cd_fast.enet_coordinate_descent(\n",
      "/Users/liuyue/opt/anaconda3/lib/python3.8/site-packages/sklearn/linear_model/_coordinate_descent.py:530: ConvergenceWarning: Objective did not converge. You might want to increase the number of iterations. Duality gap: 0.46290674288121636, tolerance: 0.09976960000000007\n",
      "  model = cd_fast.enet_coordinate_descent(\n",
      "/Users/liuyue/opt/anaconda3/lib/python3.8/site-packages/sklearn/linear_model/_coordinate_descent.py:530: ConvergenceWarning: Objective did not converge. You might want to increase the number of iterations. Duality gap: 0.19717267315314757, tolerance: 0.09976960000000007\n",
      "  model = cd_fast.enet_coordinate_descent(\n",
      "/Users/liuyue/opt/anaconda3/lib/python3.8/site-packages/sklearn/linear_model/_coordinate_descent.py:530: ConvergenceWarning: Objective did not converge. You might want to increase the number of iterations. Duality gap: 3.302441692474872, tolerance: 0.09976960000000007\n",
      "  model = cd_fast.enet_coordinate_descent(\n",
      "/Users/liuyue/opt/anaconda3/lib/python3.8/site-packages/sklearn/linear_model/_coordinate_descent.py:530: ConvergenceWarning: Objective did not converge. You might want to increase the number of iterations. Duality gap: 0.3689342487013505, tolerance: 0.09976960000000007\n",
      "  model = cd_fast.enet_coordinate_descent(\n",
      "/Users/liuyue/opt/anaconda3/lib/python3.8/site-packages/sklearn/linear_model/_coordinate_descent.py:530: ConvergenceWarning: Objective did not converge. You might want to increase the number of iterations. Duality gap: 98.89738002874844, tolerance: 0.0997084\n",
      "  model = cd_fast.enet_coordinate_descent(\n",
      "/Users/liuyue/opt/anaconda3/lib/python3.8/site-packages/sklearn/linear_model/_coordinate_descent.py:530: ConvergenceWarning: Objective did not converge. You might want to increase the number of iterations. Duality gap: 44.666336145469415, tolerance: 0.0997084\n",
      "  model = cd_fast.enet_coordinate_descent(\n",
      "/Users/liuyue/opt/anaconda3/lib/python3.8/site-packages/sklearn/linear_model/_coordinate_descent.py:530: ConvergenceWarning: Objective did not converge. You might want to increase the number of iterations. Duality gap: 15.696436042645473, tolerance: 0.0997084\n",
      "  model = cd_fast.enet_coordinate_descent(\n",
      "/Users/liuyue/opt/anaconda3/lib/python3.8/site-packages/sklearn/linear_model/_coordinate_descent.py:530: ConvergenceWarning: Objective did not converge. You might want to increase the number of iterations. Duality gap: 6.2771525272123085, tolerance: 0.0997084\n",
      "  model = cd_fast.enet_coordinate_descent(\n",
      "/Users/liuyue/opt/anaconda3/lib/python3.8/site-packages/sklearn/linear_model/_coordinate_descent.py:530: ConvergenceWarning: Objective did not converge. You might want to increase the number of iterations. Duality gap: 1.0772573202588092, tolerance: 0.0997084\n",
      "  model = cd_fast.enet_coordinate_descent(\n",
      "/Users/liuyue/opt/anaconda3/lib/python3.8/site-packages/sklearn/linear_model/_coordinate_descent.py:530: ConvergenceWarning: Objective did not converge. You might want to increase the number of iterations. Duality gap: 0.4501465985443929, tolerance: 0.0997084\n",
      "  model = cd_fast.enet_coordinate_descent(\n",
      "/Users/liuyue/opt/anaconda3/lib/python3.8/site-packages/sklearn/linear_model/_coordinate_descent.py:530: ConvergenceWarning: Objective did not converge. You might want to increase the number of iterations. Duality gap: 0.15002959944968097, tolerance: 0.0997084\n",
      "  model = cd_fast.enet_coordinate_descent(\n",
      "/Users/liuyue/opt/anaconda3/lib/python3.8/site-packages/sklearn/linear_model/_coordinate_descent.py:530: ConvergenceWarning: Objective did not converge. You might want to increase the number of iterations. Duality gap: 7.072138669582557, tolerance: 0.0997084\n",
      "  model = cd_fast.enet_coordinate_descent(\n",
      "/Users/liuyue/opt/anaconda3/lib/python3.8/site-packages/sklearn/linear_model/_coordinate_descent.py:530: ConvergenceWarning: Objective did not converge. You might want to increase the number of iterations. Duality gap: 0.13810238450497536, tolerance: 0.0997084\n",
      "  model = cd_fast.enet_coordinate_descent(\n",
      "/Users/liuyue/opt/anaconda3/lib/python3.8/site-packages/sklearn/linear_model/_coordinate_descent.py:530: ConvergenceWarning: Objective did not converge. You might want to increase the number of iterations. Duality gap: 0.9048966224385993, tolerance: 0.0997084\n",
      "  model = cd_fast.enet_coordinate_descent(\n",
      "/Users/liuyue/opt/anaconda3/lib/python3.8/site-packages/sklearn/linear_model/_coordinate_descent.py:530: ConvergenceWarning: Objective did not converge. You might want to increase the number of iterations. Duality gap: 0.22804461012327693, tolerance: 0.0997084\n",
      "  model = cd_fast.enet_coordinate_descent(\n",
      "/Users/liuyue/opt/anaconda3/lib/python3.8/site-packages/sklearn/linear_model/_coordinate_descent.py:530: ConvergenceWarning: Objective did not converge. You might want to increase the number of iterations. Duality gap: 103.67101177204218, tolerance: 0.09959040000000013\n",
      "  model = cd_fast.enet_coordinate_descent(\n",
      "/Users/liuyue/opt/anaconda3/lib/python3.8/site-packages/sklearn/linear_model/_coordinate_descent.py:530: ConvergenceWarning: Objective did not converge. You might want to increase the number of iterations. Duality gap: 55.76438255249114, tolerance: 0.09959040000000013\n",
      "  model = cd_fast.enet_coordinate_descent(\n",
      "/Users/liuyue/opt/anaconda3/lib/python3.8/site-packages/sklearn/linear_model/_coordinate_descent.py:530: ConvergenceWarning: Objective did not converge. You might want to increase the number of iterations. Duality gap: 13.879343419387766, tolerance: 0.09959040000000013\n",
      "  model = cd_fast.enet_coordinate_descent(\n",
      "/Users/liuyue/opt/anaconda3/lib/python3.8/site-packages/sklearn/linear_model/_coordinate_descent.py:530: ConvergenceWarning: Objective did not converge. You might want to increase the number of iterations. Duality gap: 0.6352785319945156, tolerance: 0.09959040000000013\n",
      "  model = cd_fast.enet_coordinate_descent(\n",
      "/Users/liuyue/opt/anaconda3/lib/python3.8/site-packages/sklearn/linear_model/_coordinate_descent.py:530: ConvergenceWarning: Objective did not converge. You might want to increase the number of iterations. Duality gap: 0.16459850084385153, tolerance: 0.09959040000000013\n",
      "  model = cd_fast.enet_coordinate_descent(\n",
      "/Users/liuyue/opt/anaconda3/lib/python3.8/site-packages/sklearn/linear_model/_coordinate_descent.py:530: ConvergenceWarning: Objective did not converge. You might want to increase the number of iterations. Duality gap: 9.88966805947922, tolerance: 0.09959040000000013\n",
      "  model = cd_fast.enet_coordinate_descent(\n",
      "/Users/liuyue/opt/anaconda3/lib/python3.8/site-packages/sklearn/linear_model/_coordinate_descent.py:530: ConvergenceWarning: Objective did not converge. You might want to increase the number of iterations. Duality gap: 0.43092699932719825, tolerance: 0.09959040000000013\n",
      "  model = cd_fast.enet_coordinate_descent(\n",
      "/Users/liuyue/opt/anaconda3/lib/python3.8/site-packages/sklearn/linear_model/_coordinate_descent.py:530: ConvergenceWarning: Objective did not converge. You might want to increase the number of iterations. Duality gap: 80.4363158531287, tolerance: 0.09982360000000004\n",
      "  model = cd_fast.enet_coordinate_descent(\n",
      "/Users/liuyue/opt/anaconda3/lib/python3.8/site-packages/sklearn/linear_model/_coordinate_descent.py:530: ConvergenceWarning: Objective did not converge. You might want to increase the number of iterations. Duality gap: 58.96408895945497, tolerance: 0.09982360000000004\n",
      "  model = cd_fast.enet_coordinate_descent(\n",
      "/Users/liuyue/opt/anaconda3/lib/python3.8/site-packages/sklearn/linear_model/_coordinate_descent.py:530: ConvergenceWarning: Objective did not converge. You might want to increase the number of iterations. Duality gap: 20.243149015524892, tolerance: 0.09982360000000004\n",
      "  model = cd_fast.enet_coordinate_descent(\n",
      "/Users/liuyue/opt/anaconda3/lib/python3.8/site-packages/sklearn/linear_model/_coordinate_descent.py:530: ConvergenceWarning: Objective did not converge. You might want to increase the number of iterations. Duality gap: 12.837926176553395, tolerance: 0.09982360000000004\n",
      "  model = cd_fast.enet_coordinate_descent(\n",
      "/Users/liuyue/opt/anaconda3/lib/python3.8/site-packages/sklearn/linear_model/_coordinate_descent.py:530: ConvergenceWarning: Objective did not converge. You might want to increase the number of iterations. Duality gap: 2.2335734073050446, tolerance: 0.09982360000000004\n",
      "  model = cd_fast.enet_coordinate_descent(\n",
      "/Users/liuyue/opt/anaconda3/lib/python3.8/site-packages/sklearn/linear_model/_coordinate_descent.py:530: ConvergenceWarning: Objective did not converge. You might want to increase the number of iterations. Duality gap: 1.156748858439073, tolerance: 0.09982360000000004\n",
      "  model = cd_fast.enet_coordinate_descent(\n",
      "/Users/liuyue/opt/anaconda3/lib/python3.8/site-packages/sklearn/linear_model/_coordinate_descent.py:530: ConvergenceWarning: Objective did not converge. You might want to increase the number of iterations. Duality gap: 0.41901854204297706, tolerance: 0.09982360000000004\n",
      "  model = cd_fast.enet_coordinate_descent(\n",
      "/Users/liuyue/opt/anaconda3/lib/python3.8/site-packages/sklearn/linear_model/_coordinate_descent.py:530: ConvergenceWarning: Objective did not converge. You might want to increase the number of iterations. Duality gap: 20.504995154576335, tolerance: 0.09982360000000004\n",
      "  model = cd_fast.enet_coordinate_descent(\n",
      "/Users/liuyue/opt/anaconda3/lib/python3.8/site-packages/sklearn/linear_model/_coordinate_descent.py:530: ConvergenceWarning: Objective did not converge. You might want to increase the number of iterations. Duality gap: 0.648892628883516, tolerance: 0.09982360000000004\n",
      "  model = cd_fast.enet_coordinate_descent(\n",
      "/Users/liuyue/opt/anaconda3/lib/python3.8/site-packages/sklearn/linear_model/_coordinate_descent.py:530: ConvergenceWarning: Objective did not converge. You might want to increase the number of iterations. Duality gap: 6.045269557862383, tolerance: 0.09982360000000004\n",
      "  model = cd_fast.enet_coordinate_descent(\n",
      "/Users/liuyue/opt/anaconda3/lib/python3.8/site-packages/sklearn/linear_model/_coordinate_descent.py:530: ConvergenceWarning: Objective did not converge. You might want to increase the number of iterations. Duality gap: 1.9065659399464039, tolerance: 0.09982360000000004\n",
      "  model = cd_fast.enet_coordinate_descent(\n",
      "/Users/liuyue/opt/anaconda3/lib/python3.8/site-packages/sklearn/linear_model/_coordinate_descent.py:530: ConvergenceWarning: Objective did not converge. You might want to increase the number of iterations. Duality gap: 0.7021470953163771, tolerance: 0.09982360000000004\n",
      "  model = cd_fast.enet_coordinate_descent(\n",
      "/Users/liuyue/opt/anaconda3/lib/python3.8/site-packages/sklearn/linear_model/_coordinate_descent.py:530: ConvergenceWarning: Objective did not converge. You might want to increase the number of iterations. Duality gap: 0.39092345016018726, tolerance: 0.09982360000000004\n",
      "  model = cd_fast.enet_coordinate_descent(\n",
      "/Users/liuyue/opt/anaconda3/lib/python3.8/site-packages/sklearn/linear_model/_coordinate_descent.py:530: ConvergenceWarning: Objective did not converge. You might want to increase the number of iterations. Duality gap: 88.38601813742787, tolerance: 0.09998039999999978\n",
      "  model = cd_fast.enet_coordinate_descent(\n",
      "/Users/liuyue/opt/anaconda3/lib/python3.8/site-packages/sklearn/linear_model/_coordinate_descent.py:530: ConvergenceWarning: Objective did not converge. You might want to increase the number of iterations. Duality gap: 43.64952703890614, tolerance: 0.09998039999999978\n",
      "  model = cd_fast.enet_coordinate_descent(\n",
      "/Users/liuyue/opt/anaconda3/lib/python3.8/site-packages/sklearn/linear_model/_coordinate_descent.py:530: ConvergenceWarning: Objective did not converge. You might want to increase the number of iterations. Duality gap: 25.5788553357595, tolerance: 0.09998039999999978\n",
      "  model = cd_fast.enet_coordinate_descent(\n",
      "/Users/liuyue/opt/anaconda3/lib/python3.8/site-packages/sklearn/linear_model/_coordinate_descent.py:530: ConvergenceWarning: Objective did not converge. You might want to increase the number of iterations. Duality gap: 6.283913949461578, tolerance: 0.09998039999999978\n",
      "  model = cd_fast.enet_coordinate_descent(\n",
      "/Users/liuyue/opt/anaconda3/lib/python3.8/site-packages/sklearn/linear_model/_coordinate_descent.py:530: ConvergenceWarning: Objective did not converge. You might want to increase the number of iterations. Duality gap: 2.7008103571448885, tolerance: 0.09998039999999978\n",
      "  model = cd_fast.enet_coordinate_descent(\n",
      "/Users/liuyue/opt/anaconda3/lib/python3.8/site-packages/sklearn/linear_model/_coordinate_descent.py:530: ConvergenceWarning: Objective did not converge. You might want to increase the number of iterations. Duality gap: 0.3569998450191747, tolerance: 0.09998039999999978\n",
      "  model = cd_fast.enet_coordinate_descent(\n",
      "/Users/liuyue/opt/anaconda3/lib/python3.8/site-packages/sklearn/linear_model/_coordinate_descent.py:530: ConvergenceWarning: Objective did not converge. You might want to increase the number of iterations. Duality gap: 14.94656481316224, tolerance: 0.09998039999999978\n",
      "  model = cd_fast.enet_coordinate_descent(\n",
      "/Users/liuyue/opt/anaconda3/lib/python3.8/site-packages/sklearn/linear_model/_coordinate_descent.py:530: ConvergenceWarning: Objective did not converge. You might want to increase the number of iterations. Duality gap: 1.6897648215745562, tolerance: 0.09998039999999978\n",
      "  model = cd_fast.enet_coordinate_descent(\n",
      "/Users/liuyue/opt/anaconda3/lib/python3.8/site-packages/sklearn/linear_model/_coordinate_descent.py:530: ConvergenceWarning: Objective did not converge. You might want to increase the number of iterations. Duality gap: 0.20038076026696672, tolerance: 0.09998039999999978\n",
      "  model = cd_fast.enet_coordinate_descent(\n",
      "/Users/liuyue/opt/anaconda3/lib/python3.8/site-packages/sklearn/linear_model/_coordinate_descent.py:530: ConvergenceWarning: Objective did not converge. You might want to increase the number of iterations. Duality gap: 100.46222169106525, tolerance: 0.09951000000000029\n",
      "  model = cd_fast.enet_coordinate_descent(\n",
      "/Users/liuyue/opt/anaconda3/lib/python3.8/site-packages/sklearn/linear_model/_coordinate_descent.py:530: ConvergenceWarning: Objective did not converge. You might want to increase the number of iterations. Duality gap: 53.16142743958903, tolerance: 0.09951000000000029\n",
      "  model = cd_fast.enet_coordinate_descent(\n",
      "/Users/liuyue/opt/anaconda3/lib/python3.8/site-packages/sklearn/linear_model/_coordinate_descent.py:530: ConvergenceWarning: Objective did not converge. You might want to increase the number of iterations. Duality gap: 10.501593348581082, tolerance: 0.09951000000000029\n",
      "  model = cd_fast.enet_coordinate_descent(\n",
      "/Users/liuyue/opt/anaconda3/lib/python3.8/site-packages/sklearn/linear_model/_coordinate_descent.py:530: ConvergenceWarning: Objective did not converge. You might want to increase the number of iterations. Duality gap: 5.300649308266344, tolerance: 0.09951000000000029\n",
      "  model = cd_fast.enet_coordinate_descent(\n",
      "/Users/liuyue/opt/anaconda3/lib/python3.8/site-packages/sklearn/linear_model/_coordinate_descent.py:530: ConvergenceWarning: Objective did not converge. You might want to increase the number of iterations. Duality gap: 1.8472761313709896, tolerance: 0.09951000000000029\n",
      "  model = cd_fast.enet_coordinate_descent(\n",
      "/Users/liuyue/opt/anaconda3/lib/python3.8/site-packages/sklearn/linear_model/_coordinate_descent.py:530: ConvergenceWarning: Objective did not converge. You might want to increase the number of iterations. Duality gap: 0.43036417775300606, tolerance: 0.09951000000000029\n",
      "  model = cd_fast.enet_coordinate_descent(\n",
      "/Users/liuyue/opt/anaconda3/lib/python3.8/site-packages/sklearn/linear_model/_coordinate_descent.py:530: ConvergenceWarning: Objective did not converge. You might want to increase the number of iterations. Duality gap: 0.378492286937842, tolerance: 0.09951000000000029\n",
      "  model = cd_fast.enet_coordinate_descent(\n",
      "/Users/liuyue/opt/anaconda3/lib/python3.8/site-packages/sklearn/linear_model/_coordinate_descent.py:530: ConvergenceWarning: Objective did not converge. You might want to increase the number of iterations. Duality gap: 6.854977483676635, tolerance: 0.09951000000000029\n",
      "  model = cd_fast.enet_coordinate_descent(\n",
      "/Users/liuyue/opt/anaconda3/lib/python3.8/site-packages/sklearn/linear_model/_coordinate_descent.py:530: ConvergenceWarning: Objective did not converge. You might want to increase the number of iterations. Duality gap: 0.32644979994336154, tolerance: 0.09951000000000029\n",
      "  model = cd_fast.enet_coordinate_descent(\n",
      "/Users/liuyue/opt/anaconda3/lib/python3.8/site-packages/sklearn/linear_model/_coordinate_descent.py:530: ConvergenceWarning: Objective did not converge. You might want to increase the number of iterations. Duality gap: 1.1190931714932049, tolerance: 0.09951000000000029\n",
      "  model = cd_fast.enet_coordinate_descent(\n",
      "/Users/liuyue/opt/anaconda3/lib/python3.8/site-packages/sklearn/linear_model/_coordinate_descent.py:530: ConvergenceWarning: Objective did not converge. You might want to increase the number of iterations. Duality gap: 0.23190544162167726, tolerance: 0.09951000000000029\n",
      "  model = cd_fast.enet_coordinate_descent(\n",
      "/Users/liuyue/opt/anaconda3/lib/python3.8/site-packages/sklearn/linear_model/_coordinate_descent.py:530: ConvergenceWarning: Objective did not converge. You might want to increase the number of iterations. Duality gap: 0.1437432548120796, tolerance: 0.09951000000000029\n",
      "  model = cd_fast.enet_coordinate_descent(\n",
      "/Users/liuyue/opt/anaconda3/lib/python3.8/site-packages/sklearn/linear_model/_coordinate_descent.py:530: ConvergenceWarning: Objective did not converge. You might want to increase the number of iterations. Duality gap: 92.54543211860287, tolerance: 0.09998999999999982\n",
      "  model = cd_fast.enet_coordinate_descent(\n",
      "/Users/liuyue/opt/anaconda3/lib/python3.8/site-packages/sklearn/linear_model/_coordinate_descent.py:530: ConvergenceWarning: Objective did not converge. You might want to increase the number of iterations. Duality gap: 43.91944824253936, tolerance: 0.09998999999999982\n",
      "  model = cd_fast.enet_coordinate_descent(\n",
      "/Users/liuyue/opt/anaconda3/lib/python3.8/site-packages/sklearn/linear_model/_coordinate_descent.py:530: ConvergenceWarning: Objective did not converge. You might want to increase the number of iterations. Duality gap: 9.808666825730313, tolerance: 0.09998999999999982\n",
      "  model = cd_fast.enet_coordinate_descent(\n",
      "/Users/liuyue/opt/anaconda3/lib/python3.8/site-packages/sklearn/linear_model/_coordinate_descent.py:530: ConvergenceWarning: Objective did not converge. You might want to increase the number of iterations. Duality gap: 5.159922962102172, tolerance: 0.09998999999999982\n",
      "  model = cd_fast.enet_coordinate_descent(\n",
      "/Users/liuyue/opt/anaconda3/lib/python3.8/site-packages/sklearn/linear_model/_coordinate_descent.py:530: ConvergenceWarning: Objective did not converge. You might want to increase the number of iterations. Duality gap: 1.433616527485242, tolerance: 0.09998999999999982\n",
      "  model = cd_fast.enet_coordinate_descent(\n",
      "/Users/liuyue/opt/anaconda3/lib/python3.8/site-packages/sklearn/linear_model/_coordinate_descent.py:530: ConvergenceWarning: Objective did not converge. You might want to increase the number of iterations. Duality gap: 0.3185129339086643, tolerance: 0.09998999999999982\n",
      "  model = cd_fast.enet_coordinate_descent(\n",
      "/Users/liuyue/opt/anaconda3/lib/python3.8/site-packages/sklearn/linear_model/_coordinate_descent.py:530: ConvergenceWarning: Objective did not converge. You might want to increase the number of iterations. Duality gap: 12.19984330588548, tolerance: 0.09998999999999982\n",
      "  model = cd_fast.enet_coordinate_descent(\n",
      "/Users/liuyue/opt/anaconda3/lib/python3.8/site-packages/sklearn/linear_model/_coordinate_descent.py:530: ConvergenceWarning: Objective did not converge. You might want to increase the number of iterations. Duality gap: 0.4679110879165478, tolerance: 0.09998999999999982\n",
      "  model = cd_fast.enet_coordinate_descent(\n",
      "/Users/liuyue/opt/anaconda3/lib/python3.8/site-packages/sklearn/linear_model/_coordinate_descent.py:530: ConvergenceWarning: Objective did not converge. You might want to increase the number of iterations. Duality gap: 2.865948505225788, tolerance: 0.09998999999999982\n",
      "  model = cd_fast.enet_coordinate_descent(\n",
      "/Users/liuyue/opt/anaconda3/lib/python3.8/site-packages/sklearn/linear_model/_coordinate_descent.py:530: ConvergenceWarning: Objective did not converge. You might want to increase the number of iterations. Duality gap: 1.106160061027083, tolerance: 0.09998999999999982\n",
      "  model = cd_fast.enet_coordinate_descent(\n",
      "/Users/liuyue/opt/anaconda3/lib/python3.8/site-packages/sklearn/linear_model/_coordinate_descent.py:530: ConvergenceWarning: Objective did not converge. You might want to increase the number of iterations. Duality gap: 0.2267774008492438, tolerance: 0.09998999999999982\n",
      "  model = cd_fast.enet_coordinate_descent(\n",
      "/Users/liuyue/opt/anaconda3/lib/python3.8/site-packages/sklearn/linear_model/_coordinate_descent.py:530: ConvergenceWarning: Objective did not converge. You might want to increase the number of iterations. Duality gap: 0.18016423511346602, tolerance: 0.09998999999999982\n",
      "  model = cd_fast.enet_coordinate_descent(\n",
      "/Users/liuyue/opt/anaconda3/lib/python3.8/site-packages/sklearn/linear_model/_coordinate_descent.py:530: ConvergenceWarning: Objective did not converge. You might want to increase the number of iterations. Duality gap: 92.03924776120036, tolerance: 0.09999360000000006\n",
      "  model = cd_fast.enet_coordinate_descent(\n",
      "/Users/liuyue/opt/anaconda3/lib/python3.8/site-packages/sklearn/linear_model/_coordinate_descent.py:530: ConvergenceWarning: Objective did not converge. You might want to increase the number of iterations. Duality gap: 43.70681863876092, tolerance: 0.09999360000000006\n",
      "  model = cd_fast.enet_coordinate_descent(\n",
      "/Users/liuyue/opt/anaconda3/lib/python3.8/site-packages/sklearn/linear_model/_coordinate_descent.py:530: ConvergenceWarning: Objective did not converge. You might want to increase the number of iterations. Duality gap: 15.843242964845984, tolerance: 0.09999360000000006\n",
      "  model = cd_fast.enet_coordinate_descent(\n",
      "/Users/liuyue/opt/anaconda3/lib/python3.8/site-packages/sklearn/linear_model/_coordinate_descent.py:530: ConvergenceWarning: Objective did not converge. You might want to increase the number of iterations. Duality gap: 3.30217005486827, tolerance: 0.09999360000000006\n",
      "  model = cd_fast.enet_coordinate_descent(\n",
      "/Users/liuyue/opt/anaconda3/lib/python3.8/site-packages/sklearn/linear_model/_coordinate_descent.py:530: ConvergenceWarning: Objective did not converge. You might want to increase the number of iterations. Duality gap: 1.0324633717106622, tolerance: 0.09999360000000006\n",
      "  model = cd_fast.enet_coordinate_descent(\n",
      "/Users/liuyue/opt/anaconda3/lib/python3.8/site-packages/sklearn/linear_model/_coordinate_descent.py:530: ConvergenceWarning: Objective did not converge. You might want to increase the number of iterations. Duality gap: 0.3515728436981931, tolerance: 0.09999360000000006\n",
      "  model = cd_fast.enet_coordinate_descent(\n",
      "/Users/liuyue/opt/anaconda3/lib/python3.8/site-packages/sklearn/linear_model/_coordinate_descent.py:530: ConvergenceWarning: Objective did not converge. You might want to increase the number of iterations. Duality gap: 7.2152439503978485, tolerance: 0.09999360000000006\n",
      "  model = cd_fast.enet_coordinate_descent(\n",
      "/Users/liuyue/opt/anaconda3/lib/python3.8/site-packages/sklearn/linear_model/_coordinate_descent.py:530: ConvergenceWarning: Objective did not converge. You might want to increase the number of iterations. Duality gap: 0.13099339563780177, tolerance: 0.09999360000000006\n",
      "  model = cd_fast.enet_coordinate_descent(\n",
      "/Users/liuyue/opt/anaconda3/lib/python3.8/site-packages/sklearn/linear_model/_coordinate_descent.py:530: ConvergenceWarning: Objective did not converge. You might want to increase the number of iterations. Duality gap: 2.4399799896027616, tolerance: 0.09999360000000006\n",
      "  model = cd_fast.enet_coordinate_descent(\n",
      "/Users/liuyue/opt/anaconda3/lib/python3.8/site-packages/sklearn/linear_model/_coordinate_descent.py:530: ConvergenceWarning: Objective did not converge. You might want to increase the number of iterations. Duality gap: 0.25592708773331196, tolerance: 0.09999360000000006\n",
      "  model = cd_fast.enet_coordinate_descent(\n",
      "/Users/liuyue/opt/anaconda3/lib/python3.8/site-packages/sklearn/linear_model/_coordinate_descent.py:530: ConvergenceWarning: Objective did not converge. You might want to increase the number of iterations. Duality gap: 88.82871253633421, tolerance: 0.09982360000000001\n",
      "  model = cd_fast.enet_coordinate_descent(\n",
      "/Users/liuyue/opt/anaconda3/lib/python3.8/site-packages/sklearn/linear_model/_coordinate_descent.py:530: ConvergenceWarning: Objective did not converge. You might want to increase the number of iterations. Duality gap: 34.472194310695755, tolerance: 0.09982360000000001\n",
      "  model = cd_fast.enet_coordinate_descent(\n",
      "/Users/liuyue/opt/anaconda3/lib/python3.8/site-packages/sklearn/linear_model/_coordinate_descent.py:530: ConvergenceWarning: Objective did not converge. You might want to increase the number of iterations. Duality gap: 15.977592765255935, tolerance: 0.09982360000000001\n",
      "  model = cd_fast.enet_coordinate_descent(\n",
      "/Users/liuyue/opt/anaconda3/lib/python3.8/site-packages/sklearn/linear_model/_coordinate_descent.py:530: ConvergenceWarning: Objective did not converge. You might want to increase the number of iterations. Duality gap: 4.572191035090356, tolerance: 0.09982360000000001\n",
      "  model = cd_fast.enet_coordinate_descent(\n",
      "/Users/liuyue/opt/anaconda3/lib/python3.8/site-packages/sklearn/linear_model/_coordinate_descent.py:530: ConvergenceWarning: Objective did not converge. You might want to increase the number of iterations. Duality gap: 1.201736422758131, tolerance: 0.09982360000000001\n",
      "  model = cd_fast.enet_coordinate_descent(\n",
      "/Users/liuyue/opt/anaconda3/lib/python3.8/site-packages/sklearn/linear_model/_coordinate_descent.py:530: ConvergenceWarning: Objective did not converge. You might want to increase the number of iterations. Duality gap: 0.27786984314809615, tolerance: 0.09982360000000001\n",
      "  model = cd_fast.enet_coordinate_descent(\n",
      "/Users/liuyue/opt/anaconda3/lib/python3.8/site-packages/sklearn/linear_model/_coordinate_descent.py:530: ConvergenceWarning: Objective did not converge. You might want to increase the number of iterations. Duality gap: 4.180542382128181, tolerance: 0.09982360000000001\n",
      "  model = cd_fast.enet_coordinate_descent(\n",
      "/Users/liuyue/opt/anaconda3/lib/python3.8/site-packages/sklearn/linear_model/_coordinate_descent.py:530: ConvergenceWarning: Objective did not converge. You might want to increase the number of iterations. Duality gap: 0.421174030077168, tolerance: 0.09982360000000001\n",
      "  model = cd_fast.enet_coordinate_descent(\n",
      "/Users/liuyue/opt/anaconda3/lib/python3.8/site-packages/sklearn/linear_model/_coordinate_descent.py:530: ConvergenceWarning: Objective did not converge. You might want to increase the number of iterations. Duality gap: 96.71327103136727, tolerance: 0.09994239999999975\n",
      "  model = cd_fast.enet_coordinate_descent(\n",
      "/Users/liuyue/opt/anaconda3/lib/python3.8/site-packages/sklearn/linear_model/_coordinate_descent.py:530: ConvergenceWarning: Objective did not converge. You might want to increase the number of iterations. Duality gap: 33.76801897846107, tolerance: 0.09994239999999975\n",
      "  model = cd_fast.enet_coordinate_descent(\n",
      "/Users/liuyue/opt/anaconda3/lib/python3.8/site-packages/sklearn/linear_model/_coordinate_descent.py:530: ConvergenceWarning: Objective did not converge. You might want to increase the number of iterations. Duality gap: 22.08344612725793, tolerance: 0.09994239999999975\n",
      "  model = cd_fast.enet_coordinate_descent(\n",
      "/Users/liuyue/opt/anaconda3/lib/python3.8/site-packages/sklearn/linear_model/_coordinate_descent.py:530: ConvergenceWarning: Objective did not converge. You might want to increase the number of iterations. Duality gap: 5.861426490555317, tolerance: 0.09994239999999975\n",
      "  model = cd_fast.enet_coordinate_descent(\n",
      "/Users/liuyue/opt/anaconda3/lib/python3.8/site-packages/sklearn/linear_model/_coordinate_descent.py:530: ConvergenceWarning: Objective did not converge. You might want to increase the number of iterations. Duality gap: 0.9134343403347884, tolerance: 0.09994239999999975\n",
      "  model = cd_fast.enet_coordinate_descent(\n",
      "/Users/liuyue/opt/anaconda3/lib/python3.8/site-packages/sklearn/linear_model/_coordinate_descent.py:530: ConvergenceWarning: Objective did not converge. You might want to increase the number of iterations. Duality gap: 0.14837754822667648, tolerance: 0.09994239999999975\n",
      "  model = cd_fast.enet_coordinate_descent(\n",
      "/Users/liuyue/opt/anaconda3/lib/python3.8/site-packages/sklearn/linear_model/_coordinate_descent.py:530: ConvergenceWarning: Objective did not converge. You might want to increase the number of iterations. Duality gap: 7.368498361795815, tolerance: 0.09994239999999975\n",
      "  model = cd_fast.enet_coordinate_descent(\n",
      "/Users/liuyue/opt/anaconda3/lib/python3.8/site-packages/sklearn/linear_model/_coordinate_descent.py:530: ConvergenceWarning: Objective did not converge. You might want to increase the number of iterations. Duality gap: 0.1122390656553307, tolerance: 0.09994239999999975\n",
      "  model = cd_fast.enet_coordinate_descent(\n",
      "/Users/liuyue/opt/anaconda3/lib/python3.8/site-packages/sklearn/linear_model/_coordinate_descent.py:530: ConvergenceWarning: Objective did not converge. You might want to increase the number of iterations. Duality gap: 2.7964966764100723, tolerance: 0.09994239999999975\n",
      "  model = cd_fast.enet_coordinate_descent(\n",
      "/Users/liuyue/opt/anaconda3/lib/python3.8/site-packages/sklearn/linear_model/_coordinate_descent.py:530: ConvergenceWarning: Objective did not converge. You might want to increase the number of iterations. Duality gap: 0.21453792848456033, tolerance: 0.09994239999999975\n",
      "  model = cd_fast.enet_coordinate_descent(\n",
      "/Users/liuyue/opt/anaconda3/lib/python3.8/site-packages/sklearn/linear_model/_coordinate_descent.py:530: ConvergenceWarning: Objective did not converge. You might want to increase the number of iterations. Duality gap: 85.99397051206779, tolerance: 0.09994239999999975\n",
      "  model = cd_fast.enet_coordinate_descent(\n",
      "/Users/liuyue/opt/anaconda3/lib/python3.8/site-packages/sklearn/linear_model/_coordinate_descent.py:530: ConvergenceWarning: Objective did not converge. You might want to increase the number of iterations. Duality gap: 54.05624027957212, tolerance: 0.09994239999999975\n",
      "  model = cd_fast.enet_coordinate_descent(\n",
      "/Users/liuyue/opt/anaconda3/lib/python3.8/site-packages/sklearn/linear_model/_coordinate_descent.py:530: ConvergenceWarning: Objective did not converge. You might want to increase the number of iterations. Duality gap: 19.31053325422039, tolerance: 0.09994239999999975\n",
      "  model = cd_fast.enet_coordinate_descent(\n",
      "/Users/liuyue/opt/anaconda3/lib/python3.8/site-packages/sklearn/linear_model/_coordinate_descent.py:530: ConvergenceWarning: Objective did not converge. You might want to increase the number of iterations. Duality gap: 3.2060149783975476, tolerance: 0.09994239999999975\n",
      "  model = cd_fast.enet_coordinate_descent(\n",
      "/Users/liuyue/opt/anaconda3/lib/python3.8/site-packages/sklearn/linear_model/_coordinate_descent.py:530: ConvergenceWarning: Objective did not converge. You might want to increase the number of iterations. Duality gap: 0.2970731712736665, tolerance: 0.09994239999999975\n",
      "  model = cd_fast.enet_coordinate_descent(\n",
      "/Users/liuyue/opt/anaconda3/lib/python3.8/site-packages/sklearn/linear_model/_coordinate_descent.py:530: ConvergenceWarning: Objective did not converge. You might want to increase the number of iterations. Duality gap: 6.2883493657221265, tolerance: 0.09994239999999975\n",
      "  model = cd_fast.enet_coordinate_descent(\n",
      "/Users/liuyue/opt/anaconda3/lib/python3.8/site-packages/sklearn/linear_model/_coordinate_descent.py:530: ConvergenceWarning: Objective did not converge. You might want to increase the number of iterations. Duality gap: 0.5348106871012419, tolerance: 0.09994239999999975\n",
      "  model = cd_fast.enet_coordinate_descent(\n",
      "/Users/liuyue/opt/anaconda3/lib/python3.8/site-packages/sklearn/linear_model/_coordinate_descent.py:530: ConvergenceWarning: Objective did not converge. You might want to increase the number of iterations. Duality gap: 103.81054727774664, tolerance: 0.09996759999999995\n",
      "  model = cd_fast.enet_coordinate_descent(\n",
      "/Users/liuyue/opt/anaconda3/lib/python3.8/site-packages/sklearn/linear_model/_coordinate_descent.py:530: ConvergenceWarning: Objective did not converge. You might want to increase the number of iterations. Duality gap: 50.04619146984368, tolerance: 0.09996759999999995\n",
      "  model = cd_fast.enet_coordinate_descent(\n",
      "/Users/liuyue/opt/anaconda3/lib/python3.8/site-packages/sklearn/linear_model/_coordinate_descent.py:530: ConvergenceWarning: Objective did not converge. You might want to increase the number of iterations. Duality gap: 14.78472515740637, tolerance: 0.09996759999999995\n",
      "  model = cd_fast.enet_coordinate_descent(\n",
      "/Users/liuyue/opt/anaconda3/lib/python3.8/site-packages/sklearn/linear_model/_coordinate_descent.py:530: ConvergenceWarning: Objective did not converge. You might want to increase the number of iterations. Duality gap: 2.114296202513458, tolerance: 0.09996759999999995\n",
      "  model = cd_fast.enet_coordinate_descent(\n",
      "/Users/liuyue/opt/anaconda3/lib/python3.8/site-packages/sklearn/linear_model/_coordinate_descent.py:530: ConvergenceWarning: Objective did not converge. You might want to increase the number of iterations. Duality gap: 0.3706438892577353, tolerance: 0.09996759999999995\n",
      "  model = cd_fast.enet_coordinate_descent(\n",
      "/Users/liuyue/opt/anaconda3/lib/python3.8/site-packages/sklearn/linear_model/_coordinate_descent.py:530: ConvergenceWarning: Objective did not converge. You might want to increase the number of iterations. Duality gap: 12.913722780929277, tolerance: 0.09996759999999995\n",
      "  model = cd_fast.enet_coordinate_descent(\n",
      "/Users/liuyue/opt/anaconda3/lib/python3.8/site-packages/sklearn/linear_model/_coordinate_descent.py:530: ConvergenceWarning: Objective did not converge. You might want to increase the number of iterations. Duality gap: 1.021979494139316, tolerance: 0.09996759999999995\n",
      "  model = cd_fast.enet_coordinate_descent(\n",
      "/Users/liuyue/opt/anaconda3/lib/python3.8/site-packages/sklearn/linear_model/_coordinate_descent.py:530: ConvergenceWarning: Objective did not converge. You might want to increase the number of iterations. Duality gap: 0.23436506531317036, tolerance: 0.09996759999999995\n",
      "  model = cd_fast.enet_coordinate_descent(\n",
      "/Users/liuyue/opt/anaconda3/lib/python3.8/site-packages/sklearn/linear_model/_coordinate_descent.py:530: ConvergenceWarning: Objective did not converge. You might want to increase the number of iterations. Duality gap: 105.00839770941738, tolerance: 0.09998999999999982\n",
      "  model = cd_fast.enet_coordinate_descent(\n",
      "/Users/liuyue/opt/anaconda3/lib/python3.8/site-packages/sklearn/linear_model/_coordinate_descent.py:530: ConvergenceWarning: Objective did not converge. You might want to increase the number of iterations. Duality gap: 38.09830492176198, tolerance: 0.09998999999999982\n",
      "  model = cd_fast.enet_coordinate_descent(\n",
      "/Users/liuyue/opt/anaconda3/lib/python3.8/site-packages/sklearn/linear_model/_coordinate_descent.py:530: ConvergenceWarning: Objective did not converge. You might want to increase the number of iterations. Duality gap: 9.838374140970245, tolerance: 0.09998999999999982\n",
      "  model = cd_fast.enet_coordinate_descent(\n",
      "/Users/liuyue/opt/anaconda3/lib/python3.8/site-packages/sklearn/linear_model/_coordinate_descent.py:530: ConvergenceWarning: Objective did not converge. You might want to increase the number of iterations. Duality gap: 1.600407812197318, tolerance: 0.09998999999999982\n",
      "  model = cd_fast.enet_coordinate_descent(\n",
      "/Users/liuyue/opt/anaconda3/lib/python3.8/site-packages/sklearn/linear_model/_coordinate_descent.py:530: ConvergenceWarning: Objective did not converge. You might want to increase the number of iterations. Duality gap: 0.28799031075197945, tolerance: 0.09998999999999982\n",
      "  model = cd_fast.enet_coordinate_descent(\n",
      "/Users/liuyue/opt/anaconda3/lib/python3.8/site-packages/sklearn/linear_model/_coordinate_descent.py:530: ConvergenceWarning: Objective did not converge. You might want to increase the number of iterations. Duality gap: 0.10617826045904621, tolerance: 0.09998999999999982\n",
      "  model = cd_fast.enet_coordinate_descent(\n",
      "/Users/liuyue/opt/anaconda3/lib/python3.8/site-packages/sklearn/linear_model/_coordinate_descent.py:530: ConvergenceWarning: Objective did not converge. You might want to increase the number of iterations. Duality gap: 3.9785266377139976, tolerance: 0.09998999999999982\n",
      "  model = cd_fast.enet_coordinate_descent(\n",
      "/Users/liuyue/opt/anaconda3/lib/python3.8/site-packages/sklearn/linear_model/_coordinate_descent.py:530: ConvergenceWarning: Objective did not converge. You might want to increase the number of iterations. Duality gap: 82.49699370777009, tolerance: 0.09995999999999991\n",
      "  model = cd_fast.enet_coordinate_descent(\n",
      "/Users/liuyue/opt/anaconda3/lib/python3.8/site-packages/sklearn/linear_model/_coordinate_descent.py:530: ConvergenceWarning: Objective did not converge. You might want to increase the number of iterations. Duality gap: 41.12921077181437, tolerance: 0.09995999999999991\n",
      "  model = cd_fast.enet_coordinate_descent(\n",
      "/Users/liuyue/opt/anaconda3/lib/python3.8/site-packages/sklearn/linear_model/_coordinate_descent.py:530: ConvergenceWarning: Objective did not converge. You might want to increase the number of iterations. Duality gap: 14.595168608205597, tolerance: 0.09995999999999991\n",
      "  model = cd_fast.enet_coordinate_descent(\n",
      "/Users/liuyue/opt/anaconda3/lib/python3.8/site-packages/sklearn/linear_model/_coordinate_descent.py:530: ConvergenceWarning: Objective did not converge. You might want to increase the number of iterations. Duality gap: 2.9831248987027834, tolerance: 0.09995999999999991\n",
      "  model = cd_fast.enet_coordinate_descent(\n",
      "/Users/liuyue/opt/anaconda3/lib/python3.8/site-packages/sklearn/linear_model/_coordinate_descent.py:530: ConvergenceWarning: Objective did not converge. You might want to increase the number of iterations. Duality gap: 0.23015559043051326, tolerance: 0.09995999999999991\n",
      "  model = cd_fast.enet_coordinate_descent(\n",
      "/Users/liuyue/opt/anaconda3/lib/python3.8/site-packages/sklearn/linear_model/_coordinate_descent.py:530: ConvergenceWarning: Objective did not converge. You might want to increase the number of iterations. Duality gap: 9.392694742649127, tolerance: 0.09995999999999991\n",
      "  model = cd_fast.enet_coordinate_descent(\n",
      "/Users/liuyue/opt/anaconda3/lib/python3.8/site-packages/sklearn/linear_model/_coordinate_descent.py:530: ConvergenceWarning: Objective did not converge. You might want to increase the number of iterations. Duality gap: 0.4750640173772922, tolerance: 0.09995999999999991\n",
      "  model = cd_fast.enet_coordinate_descent(\n"
     ]
    }
   ],
   "source": [
    "## we use the ElasticNet package from scikit-learn\n",
    "from sklearn.linear_model import ElasticNet\n",
    "\n",
    "M=30 ## for computational reasons, we reduce M to 30 here. \n",
    "## This will give us larger confidence intervals and more variance in the stability estimates\n",
    "## Nevertheless, we have shown in the paper [1] that M=30 suffices in most scenarios\n",
    "num_ratios=10\n",
    "num_alphas=10\n",
    "alphas=np.linspace(0.05,0.95,num_alphas) ## the first hyper-parameter of the elastic net\n",
    "ratios=np.linspace(0.01,0.8,num_ratios)  ## the second hyper-parameter of the elastic net\n",
    "Z_net=np.zeros((num_ratios,num_alphas,M,d),dtype=np.int8)\n",
    "errors_net=np.zeros((M,num_ratios,num_alphas))\n",
    "stabilities_net=np.zeros((num_ratios,num_alphas))\n",
    "errStab_net=np.zeros((num_ratios,num_alphas))\n",
    "numFeatSelected_net=np.zeros((M,num_ratios,num_alphas),dtype=np.int32)\n",
    "for i in range(M):\n",
    "    newData=getBootstrapSample(data,labels) ## we get bootstrap samples\n",
    "    for k in range(num_ratios):\n",
    "        for l in range(num_alphas):\n",
    "            net=ElasticNet(alpha=alphas[l],l1_ratio=ratios[k],max_iter=500) ## we use elastic net\n",
    "            net.fit(newData['bootData'],newData['bootLabels'])\n",
    "            Z_net[k,l,i,net.coef_!=0]=1\n",
    "            numFeatSelected_net[i,k,l]=np.sum(Z_net[k,l,i,],axis=0)\n",
    "            predLabels_net=np.zeros(len(newData['OOBData']))\n",
    "            temp=net.predict(newData['OOBData'])\n",
    "            for j in range(len(newData['OOBData'])):\n",
    "                if temp[j]>=0: predLabels_net[j]=1\n",
    "                else:  predLabels_net[j]=-1\n",
    "            errors_net[i,k,l]=1-metrics.accuracy_score(newData['OOBLabels'], predLabels_net)\n",
    "meanError_net=np.mean(errors_net,0)\n",
    "\n",
    "for k in range(num_ratios):\n",
    "    for l in range(num_alphas):\n",
    "        ## we use the stability package to get the stability estimate and its confidence intervals\n",
    "        res=st.confidenceIntervals(Z_net[k,l,],alpha=alpha)    \n",
    "        stabilities_net[k,l]=res['stability']\n",
    "        errStab_net[k,l]=stabilities_net[k,l]-res['lower']\n",
    "    "
   ]
  },
  {
   "cell_type": "markdown",
   "metadata": {},
   "source": [
    "In the plot above, each line represent a different ratio parameter of the elastic net. <br>\n",
    "Since these experiments only serve an illustrative purpose, we do not mind the non-convergence of the optimization algorithm of the elastic net and kept the maximal number of iterations equal to 500. <br><br>\n",
    "\n",
    "In all the figures below, each line correspond to a specific of the ratio hyper-parameter, and each point of the line corresponds to a different alpha value (second hyper-parameter of the ealstic net). "
   ]
  },
  {
   "cell_type": "code",
   "execution_count": 14,
   "metadata": {
    "collapsed": false,
    "jupyter": {
     "outputs_hidden": false
    }
   },
   "outputs": [
    {
     "data": {
      "image/png": "[encoded data removed]",
      "text/plain": [
       "<Figure size 432x288 with 1 Axes>"
      ]
     },
     "metadata": {
      "needs_background": "light"
     },
     "output_type": "display_data"
    }
   ],
   "source": [
    "import matplotlib.pyplot as plt\n",
    "plt.close()\n",
    "plt.figure()\n",
    "numFeatSelected_net[i,k,l]\n",
    "for k in range(num_ratios):\n",
    "    plt.plot(alphas,np.mean(numFeatSelected_net[:,k,:],axis=0))\n",
    "plt.xlabel('alphas')\n",
    "plt.ylabel('num. Features selected against alpha for different L1-ratios')\n",
    "plt.title('Number of Features selected against the L1-Ratio in Elastic Net')\n",
    "plt.show()"
   ]
  },
  {
   "cell_type": "code",
   "execution_count": 15,
   "metadata": {
    "collapsed": false,
    "jupyter": {
     "outputs_hidden": false
    }
   },
   "outputs": [
    {
     "data": {
      "image/png": "[encoded data removed]",
      "text/plain": [
       "<Figure size 432x288 with 1 Axes>"
      ]
     },
     "metadata": {
      "needs_background": "light"
     },
     "output_type": "display_data"
    }
   ],
   "source": [
    "plt.close()\n",
    "plt.figure()\n",
    "for k in range(num_ratios):\n",
    "    plt.errorbar(alphas,stabilities_net[k,:],yerr=errStab_net[k,:])\n",
    "plt.xlabel('alpha')\n",
    "plt.ylabel('Stability')\n",
    "plt.title('Stability against alpha for different L1-ratios')\n",
    "plt.show()"
   ]
  },
  {
   "cell_type": "code",
   "execution_count": 18,
   "metadata": {
    "collapsed": false,
    "jupyter": {
     "outputs_hidden": false
    }
   },
   "outputs": [
    {
     "data": {
      "image/png": "[encoded data removed]",
      "text/plain": [
       "<Figure size 432x288 with 1 Axes>"
      ]
     },
     "metadata": {
      "needs_background": "light"
     },
     "output_type": "display_data"
    }
   ],
   "source": [
    "plt.close()\n",
    "plt.figure()\n",
    "for k in range(num_ratios):\n",
    "    plt.errorbar(meanError_net[k,:],stabilities_net[k,:],yerr=errStab_net[k,:])\n",
    "plt.xlabel('Error')\n",
    "plt.ylabel('Stability')\n",
    "plt.title('Stability against Av. OOB Error')\n",
    "plt.show()"
   ]
  },
  {
   "cell_type": "markdown",
   "metadata": {},
   "source": [
    "<b>CONCLUSIONS:</b><br>\n",
    "As we can see, the hyper-parameters optimizing the error of our model are not the same as the ones optimizing the stability. <br>\n",
    "Nevertheless, we can see that in this case, it is possible to choose a reasonable trade-off between the two, with a <i>high</i> stability and <i>low</i> error.  "
   ]
  },
  {
   "cell_type": "markdown",
   "metadata": {},
   "source": [
    "# Information Theory Example"
   ]
  },
  {
   "cell_type": "markdown",
   "metadata": {},
   "source": [
    "Let us assume we now select the top-k features that have the highest mutual information with the target class. <br>\n",
    "We check the stability of this feature selection procedure against k in the example below. <br>\n",
    "For this purpose, we use the heart dataset from the UCI repository, where we have discretized the features using 10 bins as done by [3] (the dataset is available at [4]). "
   ]
  },
  {
   "cell_type": "code",
   "execution_count": 19,
   "metadata": {
    "collapsed": false,
    "jupyter": {
     "outputs_hidden": false
    }
   },
   "outputs": [],
   "source": [
    "## We set the chosen hyper-parameters\n",
    "M=100\n",
    "dataName='heartEW.mat'\n",
    "kValues=range(1,d-1) ## an array with the number of features we want to select\n",
    "## We load the desired dataset\n",
    "res=sio.loadmat(dataName)\n",
    "data=res['data']\n",
    "labels=res['labels']\n",
    "m,d=data.shape\n",
    "labels=labels.reshape(m)\n",
    "Z=np.zeros((len(kValues),M,d),dtype=np.int8) # this will store the M feature sets\n",
    "for i in range(M):\n",
    "    newData=getBootstrapSample(data,labels) ## we get bootstrap samples\n",
    "    mutualInfos=getMutualInfos(newData['bootData'],newData['bootLabels']) ## we get the mutual informaion on the bootstrap samples\n",
    "    ind=np.argsort(mutualInfos) #sorts the mutual informations in increasing order\n",
    "    for j in range(len(kValues)):\n",
    "        ## we retrieve the indices of the top-k mutual informations\n",
    "        #print(list(range(d-1,d-1-kValues[j],-1)))\n",
    "        topK=ind[range(d-1,d-1-kValues[j],-1)] ## the indices of the features with the kValues[k] highest MIs \n",
    "        Z[j,i,topK]=1 \n",
    "# now we get the stability with confidence intervals   \n",
    "stabilities=np.zeros(len(kValues))\n",
    "stabErr=np.zeros(len(kValues))\n",
    "for j in range(len(kValues)):\n",
    "    res=st.confidenceIntervals(Z[j,],alpha=0.05)\n",
    "    stabilities[j]=res['stability']\n",
    "    stabErr[j]=stabilities[j]-res['lower']"
   ]
  },
  {
   "cell_type": "code",
   "execution_count": 20,
   "metadata": {
    "collapsed": false,
    "jupyter": {
     "outputs_hidden": false
    }
   },
   "outputs": [
    {
     "data": {
      "image/png": "[encoded data removed]",
      "text/plain": [
       "<Figure size 432x288 with 1 Axes>"
      ]
     },
     "metadata": {
      "needs_background": "light"
     },
     "output_type": "display_data"
    }
   ],
   "source": [
    "import matplotlib.pyplot as plt\n",
    "stabilities=np.zeros(len(kValues))\n",
    "stabErr=np.zeros(len(kValues))\n",
    "for j in range(len(kValues)):\n",
    "    res=st.confidenceIntervals(Z[j,],alpha=0.05)\n",
    "    stabilities[j]=res['stability']\n",
    "    stabErr[j]=stabilities[j]-res['lower']\n",
    "plt.close()\n",
    "plt.figure()\n",
    "plt.errorbar(kValues,stabilities,yerr=stabErr,marker='o', linestyle='--')\n",
    "plt.ylabel('stability')\n",
    "plt.xlabel('Number of features selected k')\n",
    "plt.title(\"Stability of the selection of the top-k feature against k on the \"+dataName+\" dataset\")\n",
    "plt.show()"
   ]
  },
  {
   "cell_type": "markdown",
   "metadata": {},
   "source": [
    "<b>CONCLUSIONS:</b><br>\n",
    "- On the figure above, we can observe how the stability varies with the number of features selected k on the heart dataset. We also provide 95% confidence intervals indicating that 95% of the time, the true population stability will belong to the interval. \n",
    "- In practice, this cannot be used alone to decide on a number of features to be selected. The hyperparameters of the algorithm (here, the number of features selected k) should be optimized against stability AND the generalization error, in a multi_objective way. Often, one needs to make a trade-off between stability and classification error."
   ]
  },
  {
   "cell_type": "markdown",
   "metadata": {},
   "source": [
    "# REFERENCES"
   ]
  },
  {
   "cell_type": "markdown",
   "metadata": {},
   "source": [
    "[1] Nogueira, Sechidis and Brown (2017). On the Stability of Feature Selection. Journal of Machine Learning Research (JMLR). <br />\n",
    "[2] Brown, Pocock, Zhao and Luján (2012). Conditional Likelihood Maximisation: A Unifying Framework for Information Theoretic Feature Selection. Journal of Machine Learning Reasearch (JMLR). <br />\n",
    "[3] http://www.cs.man.ac.uk/~gbrown/fstoolbox/ <br />\n",
    "[4] Kuncheva (2007). A Stability Index for Feature Selection. Proceedings of the 25th IASTED International Multi-Conference, Artificial Intelligence and Applications.  <br />\n",
    "<!-->[2] Kamkar, Gupta, Phung and Venkatesh (2015). Stable Feature Selection With Support Vector Machines. In AI 2015: Advances in Artificial Intelligence. <br /> <--->"
   ]
  },
  {
   "cell_type": "code",
   "execution_count": null,
   "metadata": {},
   "outputs": [],
   "source": []
  }
 ],
 "metadata": {
  "kernelspec": {
   "display_name": "Python 3",
   "language": "python",
   "name": "python3"
  },
  "language_info": {
   "codemirror_mode": {
    "name": "ipython",
    "version": 3
   },
   "file_extension": ".py",
   "mimetype": "text/x-python",
   "name": "python",
   "nbconvert_exporter": "python",
   "pygments_lexer": "ipython3",
   "version": "3.7.0"
  }
 },
 "nbformat": 4,
 "nbformat_minor": 4
}
