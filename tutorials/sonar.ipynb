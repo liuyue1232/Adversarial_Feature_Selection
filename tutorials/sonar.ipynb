{
 "cells": [
  {
   "cell_type": "code",
   "execution_count": 1,
   "metadata": {},
   "outputs": [],
   "source": [
    "from sklearn.preprocessing import MinMaxScaler\n",
    "from sklearn.model_selection import train_test_split\n",
    "from sklearn.metrics import accuracy_score\n",
    "import matplotlib.pyplot as plt\n",
    "from lassonet import LassoNetClassifier\n",
    "from ReliefF import ReliefF\n",
    "import numpy as np\n",
    "import pandas as pd\n",
    "from sklearn.model_selection import train_test_split\n",
    "from sklearn import linear_model\n",
    "from sklearn import datasets\n",
    "from sklearn import svm\n",
    "# from mRMRquan import mRMR\n",
    "from sklearn.metrics import f1_score\n",
    "from sklearn import preprocessing\n",
    "import matplotlib.pyplot as plt\n",
    "import random\n",
    "from sklearn.ensemble import RandomForestRegressor\n",
    "from sklearn.linear_model import Ridge\n",
    "from sklearn.preprocessing import MinMaxScaler\n",
    "from sklearn.model_selection import train_test_split\n",
    "from sklearn.metrics import accuracy_score\n",
    "import matplotlib.pyplot as plt\n",
    "import secml\n",
    "from secml.array import CArray\n",
    "from secml.data import CDataset\n",
    "from secml.ml.features import CNormalizerMinMax\n",
    "import matplotlib.pyplot as plt\n",
    "import pickle\n",
    "import stability as st\n",
    "from skfeature.function.similarity_based import fisher_score\n",
    "from feature_selection_stability_after_adv_training import generateAtificialDataset,getMutualInfos,getBootstrapSample\n",
    "from mrmr import mrmr_classif\n",
    "from sklearn.feature_selection import RFE\n",
    "from sklearn.svm import SVR,SVC"
   ]
  },
  {
   "cell_type": "code",
   "execution_count": 2,
   "metadata": {},
   "outputs": [],
   "source": [
    "acc_all_methods = []"
   ]
  },
  {
   "cell_type": "code",
   "execution_count": 3,
   "metadata": {},
   "outputs": [],
   "source": [
    "#归一化\n",
    "def featureNormaliza(X):\n",
    "    #X_norm = np.array(X)  # 将X转化为numpy数组对象，才可以进行矩阵的运算\n",
    "    X_norm = X\n",
    "    # 定义所需变量\n",
    "    mu = np.zeros((1, X.shape[1]))\n",
    "    sigma = np.zeros((1, X.shape[1]))\n",
    "\n",
    "    mu = np.mean(X_norm, 0)  # 求每一列的平均值（0指定为列，1代表行）\n",
    "    sigma = np.std(X_norm, 0)  # 求每一列的标准差\n",
    "    for i in range(X.shape[1]):  # 遍历列\n",
    "        X_norm[:, i] = (X_norm[:, i] - mu[i]) / sigma[i]  # 归一化\n",
    "\n",
    "    return X_norm, mu, sigma"
   ]
  },
  {
   "cell_type": "code",
   "execution_count": 4,
   "metadata": {},
   "outputs": [
    {
     "name": "stdout",
     "output_type": "stream",
     "text": [
      "[[-0.39955135 -0.04064823 -0.02692565 ...  0.06987027  0.17167808\n",
      "  -0.65894689]\n",
      " [ 0.70353822  0.42163039  1.05561832 ... -0.47240644 -0.44455424\n",
      "  -0.41985233]\n",
      " [-0.12922901  0.60106749  1.72340448 ...  1.30935987  0.25276128\n",
      "   0.25758223]\n",
      " ...\n",
      " [ 1.00438083  0.16007801 -0.67384349 ...  0.90652575 -0.03913824\n",
      "  -0.67887143]\n",
      " [ 0.04953255 -0.09539176  0.13480381 ... -0.00759783 -0.70402047\n",
      "  -0.34015415]\n",
      " [-0.13794908 -0.06497869 -0.78861924 ... -0.6738235  -0.29860448\n",
      "   0.99479044]]\n"
     ]
    }
   ],
   "source": [
    "X_ = pd.read_csv('sonar.all-data', header=None)\n",
    "X2 = np.array(X_.loc[:, :])\n",
    "column_headers = list(X_.columns.values)\n",
    "# print(\"column:\", column_headers)\n",
    "X = np.delete(X2, -1, axis=1)\n",
    "y = X2[:, -1]\n",
    "X = np.array(X, dtype=np.float64)\n",
    "X,mu,sigma3 = featureNormaliza(X)    # x出生就已经归一化了\n",
    "k = X.shape[1]#特征总数\n",
    "print(X)"
   ]
  },
  {
   "cell_type": "code",
   "execution_count": 5,
   "metadata": {},
   "outputs": [],
   "source": [
    "from sklearn.preprocessing import StandardScaler\n",
    "\n",
    "X_2 = np.array(X_.loc[:, :])\n",
    "column_headers = list(X_.columns.values)\n",
    "X_ = np.delete(X_2, -1, axis=1)\n",
    "\n",
    "scaler = StandardScaler()\n",
    "X_scaled = scaler.fit_transform(X_)\n"
   ]
  },
  {
   "cell_type": "code",
   "execution_count": 6,
   "metadata": {},
   "outputs": [
    {
     "data": {
      "text/plain": [
       "(208,)"
      ]
     },
     "execution_count": 6,
     "metadata": {},
     "output_type": "execute_result"
    }
   ],
   "source": [
    "y.shape"
   ]
  },
  {
   "cell_type": "code",
   "execution_count": 7,
   "metadata": {},
   "outputs": [],
   "source": [
    "for i in range(len(y)):\n",
    "    if y[i] == 'R':\n",
    "        y[i] = 1\n",
    "    else:\n",
    "        y[i] = 0"
   ]
  },
  {
   "cell_type": "code",
   "execution_count": 8,
   "metadata": {},
   "outputs": [],
   "source": [
    "X_train, X_test, y_train, y_test = train_test_split(X_scaled, y)"
   ]
  },
  {
   "cell_type": "code",
   "execution_count": 9,
   "metadata": {},
   "outputs": [],
   "source": [
    "clf_svc = svm.SVC(kernel='linear', C=1).fit(X_train, y_train.astype('int'))"
   ]
  },
  {
   "cell_type": "code",
   "execution_count": 10,
   "metadata": {},
   "outputs": [],
   "source": [
    "y_predict_all_features = clf_svc.predict(X_test)"
   ]
  },
  {
   "cell_type": "code",
   "execution_count": 11,
   "metadata": {},
   "outputs": [
    {
     "name": "stdout",
     "output_type": "stream",
     "text": [
      "特征选择之前 f1: 0.7883832778394376\n",
      "特征选择之前 acc : 0.7884615384615384\n"
     ]
    }
   ],
   "source": [
    "print(\"特征选择之前 f1:\", f1_score(y_predict_all_features, y_test.astype('int'), average='macro'))  # F1值一般越大越好\n",
    "acc_all_features = clf_svc.score(X_test, y_test.astype('int'))\n",
    "print(\"特征选择之前 acc :\",acc_all_features)"
   ]
  },
  {
   "cell_type": "code",
   "execution_count": null,
   "metadata": {},
   "outputs": [],
   "source": [
    "acc = []\n",
    "from numpy import *\n",
    "\n",
    "\n",
    "X_train, X_test, y_train, y_test = train_test_split(X_scaled, y)\n",
    "clf_svc = svm.SVC(kernel='linear', C=1).fit(X_train, y_train.astype('int'))\n",
    "y_predict_all_features = clf_svc.predict(X_test)\n",
    "# print(\"特征选择之前 f1:\", f1_score(y_predict_all_features, y_test.astype('int'), average='macro'))  # F1值一般越大越好\n",
    "acc_all_features = clf_svc.score(X_test, y_test.astype('int'))\n",
    "print(\"特征选择之前 acc :\",acc_all_features)\n",
    "acc.append(acc_all_features)\n",
    "\n",
    "iter_n = X_train.shape[0]\n",
    "\n",
    "y_train = y_train.astype(int)\n",
    "y_test = y_test.astype(int)\n",
    "\n",
    "\n",
    "subsample_x_array = np.zeros([156,60], dtype = float)\n",
    "subsample_y_array = np.zeros([156,1], dtype = float)\n",
    "\n",
    "# bootstrapp 采样测试稳定性\n",
    "for i in range (iter_n):\n",
    "    rd = random.randint(X_train.shape[0])\n",
    "    subsample_x_array[i] = X_train[rd]\n",
    "    subsample_y_array[i] = y_train[rd]\n",
    "print(subsample_x_array)\n",
    "print(subsample_y_array)\n",
    "\n",
    "\n",
    "dmax = [0, 0.5, 1, 1.5, 2, 2.5]\n",
    "\n",
    "\n",
    "\n",
    "\n"
   ]
  },
  {
   "cell_type": "code",
   "execution_count": null,
   "metadata": {},
   "outputs": [],
   "source": []
  },
  {
   "cell_type": "code",
   "execution_count": null,
   "metadata": {},
   "outputs": [],
   "source": []
  },
  {
   "cell_type": "code",
   "execution_count": null,
   "metadata": {},
   "outputs": [],
   "source": []
  },
  {
   "cell_type": "code",
   "execution_count": null,
   "metadata": {},
   "outputs": [],
   "source": []
  },
  {
   "cell_type": "code",
   "execution_count": null,
   "metadata": {},
   "outputs": [],
   "source": []
  },
  {
   "cell_type": "code",
   "execution_count": null,
   "metadata": {},
   "outputs": [],
   "source": []
  },
  {
   "cell_type": "code",
   "execution_count": null,
   "metadata": {},
   "outputs": [],
   "source": []
  },
  {
   "cell_type": "code",
   "execution_count": null,
   "metadata": {},
   "outputs": [],
   "source": []
  },
  {
   "cell_type": "code",
   "execution_count": null,
   "metadata": {},
   "outputs": [],
   "source": []
  },
  {
   "cell_type": "code",
   "execution_count": null,
   "metadata": {},
   "outputs": [],
   "source": []
  }
 ],
 "metadata": {
  "kernelspec": {
   "display_name": "Python 3",
   "language": "python",
   "name": "python3"
  },
  "language_info": {
   "codemirror_mode": {
    "name": "ipython",
    "version": 3
   },
   "file_extension": ".py",
   "mimetype": "text/x-python",
   "name": "python",
   "nbconvert_exporter": "python",
   "pygments_lexer": "ipython3",
   "version": "3.7.0"
  }
 },
 "nbformat": 4,
 "nbformat_minor": 2
}
